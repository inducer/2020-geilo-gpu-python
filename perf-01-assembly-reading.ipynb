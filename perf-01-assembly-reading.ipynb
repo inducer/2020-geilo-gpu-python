{
  "cells": [
    {
      "cell_type": "markdown",
      "metadata": {},
      "source": [
        "# Assembly Reading Comprehension"
      ]
    },
    {
      "cell_type": "code",
      "execution_count": 7,
      "metadata": {},
      "outputs": [],
      "source": [
        "!rm -Rf tmp\n",
        "!mkdir -p tmp"
      ]
    },
    {
      "cell_type": "markdown",
      "metadata": {},
      "source": [
        "Here is a simple snippet of C:"
      ]
    },
    {
      "cell_type": "code",
      "execution_count": 25,
      "metadata": {},
      "outputs": [],
      "source": [
        "%%writefile tmp/asm-reading-comprehension.c\n",
        "\n",
        "int do_stuff()\n",
        "{\n",
        "  int sum = 0;\n",
        "  for (int i = 1; i <= 100; ++i)\n",
        "    sum += i*i;\n",
        "  return sum;\n",
        "}"
      ]
    },
    {
      "cell_type": "markdown",
      "metadata": {},
      "source": [
        "Compile the file:"
      ]
    },
    {
      "cell_type": "code",
      "execution_count": 26,
      "metadata": {},
      "outputs": [],
      "source": [
        "!cd tmp; gcc -c -O0 asm-reading-comprehension.c"
      ]
    },
    {
      "cell_type": "markdown",
      "metadata": {},
      "source": [
        "Now disassemble:"
      ]
    },
    {
      "cell_type": "code",
      "execution_count": 27,
      "metadata": {},
      "outputs": [],
      "source": []
    },
    {
      "cell_type": "markdown",
      "metadata": {},
      "source": [
        "How does optimization change the outcome?"
      ]
    },
    {
      "cell_type": "code",
      "execution_count": 28,
      "metadata": {},
      "outputs": [],
      "source": [
        "!cd tmp; gcc -c -O asm-reading-comprehension.c\n",
        "!objdump --disassemble tmp/asm-reading-comprehension.o"
      ]
    },
    {
      "cell_type": "markdown",
      "metadata": {},
      "source": [
        "... even more optimization?"
      ]
    },
    {
      "cell_type": "code",
      "execution_count": 29,
      "metadata": {},
      "outputs": [],
      "source": [
        "!cd tmp; gcc -c -O3 asm-reading-comprehension.c\n",
        "!objdump --disassemble tmp/asm-reading-comprehension.o"
      ]
    },
    {
      "cell_type": "code",
      "execution_count": null,
      "metadata": {},
      "outputs": [],
      "source": []
    }
  ],
  "metadata": {
    "kernelspec": {
      "display_name": "Python 3",
      "language": "python",
      "name": "python3"
    },
    "language_info": {
      "codemirror_mode": {
        "name": "ipython",
        "version": 3
      },
      "file_extension": ".py",
      "mimetype": "text/x-python",
      "name": "python",
      "nbconvert_exporter": "python",
      "pygments_lexer": "ipython3",
      "version": "3.6.6"
    }
  },
  "nbformat": 4,
  "nbformat_minor": 2
}