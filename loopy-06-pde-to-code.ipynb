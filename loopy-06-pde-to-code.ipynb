{
  "cells": [
    {
      "cell_type": "markdown",
      "metadata": {},
      "source": [
        "# Loopy: Transforming a PDE to Code"
      ]
    },
    {
      "cell_type": "code",
      "execution_count": 1,
      "metadata": {
        "collapsed": false
      },
      "outputs": [],
      "source": [
        "import pymbolic.primitives as p\n",
        "\n",
        "u = p.Variable(\"u\")"
      ]
    },
    {
      "cell_type": "markdown",
      "metadata": {},
      "source": [
        "We'll write code that evaluates $\\triangle u$ using finite differences.\n",
        "\n",
        "To that end, we define a new expression 'thing': An operator for the Laplacian."
      ]
    },
    {
      "cell_type": "code",
      "execution_count": 2,
      "metadata": {
        "collapsed": false
      },
      "outputs": [],
      "source": [
        "class Laplacian(p.Expression):\n",
        "    def __init__(self, child):\n",
        "        self.child = child\n",
        "        \n",
        "    def __getinitargs__(self):\n",
        "        return (self.child,)\n",
        "    \n",
        "    mapper_method = \"map_laplacian\"\n",
        "        \n",
        "pde = Laplacian(u)+u**2-1\n",
        "pde"
      ]
    },
    {
      "cell_type": "markdown",
      "metadata": {},
      "source": [
        "Now we'll write code to turn Laplacians into their discrete finite difference forms, using `i` and `j` as formal indices, using\n",
        "\n",
        "$$f''(x) \\approx \\frac{f(x+h) - 2 f(x) + f(x-h)}{h^{2}}$$\n",
        "\n",
        "Pay close attention to indexing!"
      ]
    },
    {
      "cell_type": "code",
      "execution_count": 3,
      "metadata": {
        "collapsed": false
      },
      "outputs": [],
      "source": [
        "from pymbolic.mapper import IdentityMapper\n",
        "\n",
        "i = p.Variable(\"i\")\n",
        "j = p.Variable(\"j\")\n",
        "\n",
        "ii = i+1\n",
        "jj = j+1"
      ]
    },
    {
      "cell_type": "code",
      "execution_count": 4,
      "metadata": {
        "collapsed": false
      },
      "outputs": [],
      "source": []
    },
    {
      "cell_type": "code",
      "execution_count": 6,
      "metadata": {
        "collapsed": false
      },
      "outputs": [],
      "source": [
        "fd_mapper = FDMapper()\n",
        "print(fd_mapper(pde))"
      ]
    },
    {
      "cell_type": "markdown",
      "metadata": {},
      "source": [
        "----\n",
        "\n",
        "Now let's generate some code for this, using `loopy`:"
      ]
    },
    {
      "cell_type": "code",
      "execution_count": 7,
      "metadata": {
        "collapsed": false
      },
      "outputs": [],
      "source": [
        "import loopy as lp\n",
        "\n",
        "result = p.Variable(\"result\")"
      ]
    },
    {
      "cell_type": "markdown",
      "metadata": {},
      "source": [
        "Observe the two parts of the `loopy` kernel description:\n",
        "\n",
        "* Polyhedral loop domain\n",
        "* Instructions"
      ]
    },
    {
      "cell_type": "code",
      "execution_count": 8,
      "metadata": {
        "collapsed": false
      },
      "outputs": [],
      "source": []
    },
    {
      "cell_type": "markdown",
      "metadata": {},
      "source": [
        "Kernels can always be inspected--simply use `print`:"
      ]
    },
    {
      "cell_type": "code",
      "execution_count": 9,
      "metadata": {
        "collapsed": true
      },
      "outputs": [],
      "source": [
        "print(knl)"
      ]
    },
    {
      "cell_type": "markdown",
      "metadata": {},
      "source": [
        "----\n",
        "\n",
        "Let's move towards running this code. To do so, we need `pyopencl`:"
      ]
    },
    {
      "cell_type": "code",
      "execution_count": 10,
      "metadata": {
        "collapsed": false
      },
      "outputs": [],
      "source": [
        "import numpy as np\n",
        "import pyopencl as cl\n",
        "import pyopencl.array\n",
        "import pyopencl.clrandom\n",
        "\n",
        "ctx = cl.create_some_context()\n",
        "queue = cl.CommandQueue(ctx)"
      ]
    },
    {
      "cell_type": "markdown",
      "metadata": {},
      "source": [
        "And some data to work with:"
      ]
    },
    {
      "cell_type": "code",
      "execution_count": 11,
      "metadata": {
        "collapsed": false
      },
      "outputs": [],
      "source": [
        "n = 1000\n",
        "u = cl.clrandom.rand(queue, (n+2,n+2), dtype=np.float32)"
      ]
    },
    {
      "cell_type": "markdown",
      "metadata": {},
      "source": [
        "Now run the code, and tell loopy to print what it generates:"
      ]
    },
    {
      "cell_type": "code",
      "execution_count": 12,
      "metadata": {
        "collapsed": false
      },
      "outputs": [],
      "source": [
        "knl = lp.set_options(knl, write_cl=True)\n",
        "\n",
        "evt, (result,) = knl(queue, u=u, n=n)"
      ]
    },
    {
      "cell_type": "markdown",
      "metadata": {},
      "source": [
        "That's obviously not very parallel. Introduce parallelism:"
      ]
    },
    {
      "cell_type": "code",
      "execution_count": 13,
      "metadata": {
        "collapsed": false
      },
      "outputs": [],
      "source": [
        "tknl = knl\n",
        "tknl = lp.tag_inames(tknl, {\"i\": \"g.0\", \"j\": \"g.1\"})\n",
        "evt, (result,) = tknl(queue, u=u)"
      ]
    },
    {
      "cell_type": "markdown",
      "metadata": {},
      "source": [
        "But OpenCL/CUDA require blocking to be efficient!"
      ]
    },
    {
      "cell_type": "code",
      "execution_count": 14,
      "metadata": {
        "collapsed": false
      },
      "outputs": [],
      "source": [
        "sknl = knl\n",
        "sknl = lp.split_iname(sknl,\n",
        "        \"i\", 16, outer_tag=\"g.1\", inner_tag=\"l.1\")\n",
        "sknl = lp.split_iname(sknl,\n",
        "        \"j\", 16, outer_tag=\"g.0\", inner_tag=\"l.0\")\n",
        "evt, (result,) = sknl(queue, u=u)"
      ]
    },
    {
      "cell_type": "markdown",
      "metadata": {},
      "source": [
        "How about some data reuse?"
      ]
    },
    {
      "cell_type": "code",
      "execution_count": 15,
      "metadata": {
        "collapsed": false
      },
      "outputs": [],
      "source": [
        "sknl = knl\n",
        "sknl = lp.split_iname(sknl,\n",
        "        \"i\", 16, outer_tag=\"g.1\", inner_tag=\"l.1\")\n",
        "sknl = lp.split_iname(sknl,\n",
        "        \"j\", 16, outer_tag=\"g.0\", inner_tag=\"l.0\")\n",
        "sknl = lp.add_prefetch(sknl, \"u\",\n",
        "    [\"i_inner\", \"j_inner\"],\n",
        "    fetch_bounding_box=True)\n",
        "evt, (result,) = sknl(queue, u=u, n=n)"
      ]
    },
    {
      "cell_type": "code",
      "execution_count": null,
      "metadata": {
        "collapsed": false
      },
      "outputs": [],
      "source": []
    }
  ],
  "metadata": {},
  "nbformat": 4,
  "nbformat_minor": 0
}