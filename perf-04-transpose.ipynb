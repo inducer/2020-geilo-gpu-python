{
  "cells": [
    {
      "cell_type": "markdown",
      "metadata": {},
      "source": [
        "# Using Memory Performance Characteristics"
      ]
    },
    {
      "cell_type": "code",
      "execution_count": 1,
      "metadata": {},
      "outputs": [],
      "source": [
        "import pyopencl as cl\n",
        "import pyopencl.clrandom\n",
        "import pyopencl.array\n",
        "import numpy as np\n",
        "import loopy as lp\n",
        "\n",
        "from time import time"
      ]
    },
    {
      "cell_type": "code",
      "execution_count": 2,
      "metadata": {},
      "outputs": [],
      "source": [
        "ctx = cl.create_some_context(interactive=True)\n",
        "queue = cl.CommandQueue(ctx)"
      ]
    },
    {
      "cell_type": "markdown",
      "metadata": {},
      "source": [
        "# Transposing a Matrix\n",
        "\n",
        "The code below realizes a simple matrix transpose:"
      ]
    },
    {
      "cell_type": "code",
      "execution_count": 125,
      "metadata": {},
      "outputs": [],
      "source": [
        "knl = lp.make_kernel(\n",
        "    \"{[i,j]: 0<=i,j<n}\",\n",
        "    \"result[i,j] = a[j,i]\",\n",
        "    lang_version=(2018, 2), name=\"transp\")\n",
        "\n",
        "knl = lp.assume(knl, \"n mod 16 = 0\")\n",
        "knl = lp.add_and_infer_dtypes(knl, {\"a\": np.float32})\n",
        "knl = lp.split_iname(knl,\n",
        "        \"i\", 16, outer_tag=\"g.0\", inner_tag=\"l.1\")\n",
        "knl = lp.split_iname(knl,\n",
        "        \"j\", 16, outer_tag=\"g.1\", inner_tag=\"l.0\")\n",
        "knl = lp.set_argument_order(knl, \"result,a,n\")\n",
        "\n",
        "code = lp.generate_code_v2(knl).device_code()\n",
        "\n",
        "print(type(code))\n",
        "print()\n",
        "print(code)"
      ]
    },
    {
      "cell_type": "markdown",
      "metadata": {},
      "source": [
        "Now compile this code and get `clknl`:"
      ]
    },
    {
      "cell_type": "code",
      "execution_count": 126,
      "metadata": {},
      "outputs": [],
      "source": []
    },
    {
      "cell_type": "markdown",
      "metadata": {},
      "source": [
        "Now set up the data:"
      ]
    },
    {
      "cell_type": "code",
      "execution_count": 127,
      "metadata": {},
      "outputs": [],
      "source": [
        "n = 1024*19\n",
        "a = cl.clrandom.rand(queue, (n, n), np.float32)\n",
        "result = cl.array.empty(queue, (n, n), np.float32)"
      ]
    },
    {
      "cell_type": "markdown",
      "metadata": {},
      "source": [
        "And time the execution:"
      ]
    },
    {
      "cell_type": "code",
      "execution_count": 130,
      "metadata": {},
      "outputs": [],
      "source": [
        "def run():\n",
        "    clknl(queue, (n, n), (16, 16), result.data, a.data, np.int32(n))\n",
        "\n",
        "run()\n",
        "run()\n",
        "run()\n",
        "\n",
        "nruns = 10\n",
        "queue.finish()\n",
        "start_time = time()\n",
        "for i in range(nruns):\n",
        "    run()\n",
        "queue.finish()\n",
        "elapsed = (time() - start_time)/nruns\n",
        "print(f\"{elapsed} s elapsed\")"
      ]
    },
    {
      "cell_type": "markdown",
      "metadata": {},
      "source": [
        "Now do bandwidth accounting."
      ]
    },
    {
      "cell_type": "code",
      "execution_count": 131,
      "metadata": {},
      "outputs": [],
      "source": []
    },
    {
      "cell_type": "markdown",
      "metadata": {},
      "source": [
        "## With Scratchpad Use"
      ]
    },
    {
      "cell_type": "code",
      "execution_count": 132,
      "metadata": {},
      "outputs": [],
      "source": [
        "knl_pf = lp.add_prefetch(knl, \"a\",\n",
        "        [\"i_inner\", \"j_inner\"],\n",
        "        default_tag=None)\n",
        "knl_pf = lp.tag_inames(knl_pf, {\"a_dim_0\": \"l.1\", \"a_dim_1\": \"l.0\"})\n",
        "code = lp.generate_code_v2(knl_pf).device_code()\n",
        "\n",
        "print(code)\n",
        "\n",
        "prg = cl.Program(ctx, code).build()\n",
        "clknl = prg.transp"
      ]
    },
    {
      "cell_type": "code",
      "execution_count": 133,
      "metadata": {},
      "outputs": [],
      "source": [
        "def run():\n",
        "    clknl(queue, (n, n), (16, 16), result.data, a.data, np.int32(n))\n",
        "\n",
        "run()\n",
        "run()\n",
        "run()\n",
        "\n",
        "nruns = 10\n",
        "queue.finish()\n",
        "start_time = time()\n",
        "for i in range(nruns):\n",
        "    run()\n",
        "queue.finish()\n",
        "elapsed = (time() - start_time)/nruns\n",
        "print(f\"{elapsed} s elapsed\")"
      ]
    },
    {
      "cell_type": "code",
      "execution_count": 134,
      "metadata": {},
      "outputs": [],
      "source": []
    },
    {
      "cell_type": "code",
      "execution_count": null,
      "metadata": {},
      "outputs": [],
      "source": []
    }
  ],
  "metadata": {
    "kernelspec": {
      "display_name": "Python 3",
      "language": "python",
      "name": "python3"
    },
    "language_info": {
      "codemirror_mode": {
        "name": "ipython",
        "version": 3
      },
      "file_extension": ".py",
      "mimetype": "text/x-python",
      "name": "python",
      "nbconvert_exporter": "python",
      "pygments_lexer": "ipython3",
      "version": "3.7.5"
    }
  },
  "nbformat": 4,
  "nbformat_minor": 2
}