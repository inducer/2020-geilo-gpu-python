{
  "cells": [
    {
      "cell_type": "markdown",
      "metadata": {},
      "source": [
        "# Something Larger than a One-Liner"
      ]
    },
    {
      "cell_type": "markdown",
      "metadata": {},
      "source": [
        "## Initialization"
      ]
    },
    {
      "cell_type": "code",
      "execution_count": 1,
      "metadata": {
        "collapsed": true
      },
      "outputs": [],
      "source": [
        "import numpy as np\n",
        "import loopy as lp\n",
        "import pyopencl as cl\n",
        "\n",
        "lp.set_caching_enabled(False)"
      ]
    },
    {
      "cell_type": "code",
      "execution_count": 2,
      "metadata": {},
      "outputs": [],
      "source": [
        "cl_ctx = cl.create_some_context(interactive=True)"
      ]
    },
    {
      "cell_type": "markdown",
      "metadata": {},
      "source": [
        "## Finding \"centers\" near \"targets\""
      ]
    },
    {
      "cell_type": "code",
      "execution_count": 3,
      "metadata": {
        "collapsed": true
      },
      "outputs": [],
      "source": [
        "knl = lp.make_kernel(\n",
        "        \"{[ictr,itgt,idim]: \"\n",
        "        \"0<=itgt<ntargets \"\n",
        "        \"and 0<=ictr<ncenters \"\n",
        "        \"and 0<=idim<ambient_dim}\",\n",
        "\n",
        "        \"\"\"\n",
        "        for itgt\n",
        "            for ictr\n",
        "                <> dist_sq = sum(idim,\n",
        "                        (tgt[idim,itgt] - center[idim,ictr])**2)\n",
        "                <> in_disk = dist_sq < (radius[ictr]*1.05)**2\n",
        "                <> matches = (\n",
        "                        (in_disk\n",
        "                            and qbx_forced_limit == 0)\n",
        "                        or (in_disk\n",
        "                                and qbx_forced_limit != 0\n",
        "                                and qbx_forced_limit * center_side[ictr] > 0)\n",
        "                        )\n",
        "\n",
        "                <> post_dist_sq = if(matches, dist_sq, HUGE)\n",
        "            end\n",
        "            <> min_dist_sq, <> min_ictr = argmin(ictr, ictr, post_dist_sq)\n",
        "\n",
        "            tgt_to_qbx_center[itgt] = if(min_dist_sq < HUGE, min_ictr, -1)\n",
        "        end\n",
        "        \"\"\")"
      ]
    },
    {
      "cell_type": "code",
      "execution_count": 4,
      "metadata": {},
      "outputs": [],
      "source": [
        "print(knl)"
      ]
    },
    {
      "cell_type": "code",
      "execution_count": 5,
      "metadata": {
        "collapsed": true
      },
      "outputs": [],
      "source": [
        "knl = lp.fix_parameters(knl, ambient_dim=2)\n",
        "knl = lp.add_and_infer_dtypes(knl, {\n",
        "        \"tgt,center,radius,HUGE\": np.float32, \n",
        "        \"center_side,qbx_forced_limit\": np.int32,\n",
        "        })"
      ]
    },
    {
      "cell_type": "code",
      "execution_count": 6,
      "metadata": {},
      "outputs": [],
      "source": [
        "lp.auto_test_vs_ref(knl, cl_ctx, knl, parameters={\n",
        "        \"HUGE\": 1e20, \"ncenters\": 200, \"ntargets\": 300,\n",
        "        \"qbx_forced_limit\": 1})"
      ]
    },
    {
      "cell_type": "code",
      "execution_count": null,
      "metadata": {
        "collapsed": true
      },
      "outputs": [],
      "source": []
    }
  ],
  "metadata": {
    "kernelspec": {
      "display_name": "Python 3",
      "language": "python",
      "name": "python3"
    },
    "language_info": {
      "codemirror_mode": {
        "name": "ipython",
        "version": 3
      },
      "file_extension": ".py",
      "mimetype": "text/x-python",
      "name": "python",
      "nbconvert_exporter": "python",
      "pygments_lexer": "ipython3",
      "version": "3.6.2"
    },
    "widgets": {
      "state": {},
      "version": "1.1.2"
    }
  },
  "nbformat": 4,
  "nbformat_minor": 1
}