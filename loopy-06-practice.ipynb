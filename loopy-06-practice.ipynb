{
  "cells": [
    {
      "cell_type": "markdown",
      "metadata": {},
      "source": [
        "# A mini-`einsum` using loopy\n",
        "\n",
        "In this problem, we will design a function that carries out an `einsum`-type operation using `loopy`. It should be usable as shown in the tests towards the end of the worksheet. Also try to perform a simple parallelization so that your code will run on a GPU."
      ]
    },
    {
      "cell_type": "code",
      "execution_count": 1,
      "metadata": {
        "collapsed": false
      },
      "outputs": [],
      "source": [
        "import numpy as np\n",
        "import numpy.linalg as la\n",
        "\n",
        "import pyopencl as cl\n",
        "import pyopencl.array\n",
        "import pyopencl.clmath\n",
        "import pyopencl.clrandom\n",
        "\n",
        "import loopy as lp"
      ]
    },
    {
      "cell_type": "markdown",
      "metadata": {},
      "source": [
        "Some hints:\n",
        "\n",
        "* `loopy.Reduction(\"sum\", (\"i\", \"j\", \"k\"), expr)` expresses a sum.\n",
        "* Build the loop domain `{[i,j]: 0<=i<Ni and 0<=j<Nj}` as a string and pass it to loopy.\n",
        "* To build strings, use\n",
        "    * `str.join()`: `\",\".join(names)` and \n",
        "    * `str.format`: `\"Hi {name}\".format(name=\"Andreas\")`"
      ]
    },
    {
      "cell_type": "code",
      "execution_count": 2,
      "metadata": {
        "collapsed": false
      },
      "outputs": [],
      "source": [
        "def loopy_einsum(queue, spec, *args):\n",
        "    arg_spec, out_spec = spec.split(\"->\")\n",
        "    arg_specs = arg_spec.split(\",\")\n",
        "    # ..."
      ]
    },
    {
      "cell_type": "code",
      "execution_count": 3,
      "metadata": {
        "collapsed": false
      },
      "outputs": [],
      "source": []
    },
    {
      "cell_type": "markdown",
      "metadata": {},
      "source": [
        "Now, let us test our implementation, first using a simple matrix-matrix multiplication:"
      ]
    },
    {
      "cell_type": "code",
      "execution_count": 4,
      "metadata": {
        "collapsed": false
      },
      "outputs": [],
      "source": [
        "cl_context = cl.create_some_context()\n",
        "queue = cl.CommandQueue(cl_context)\n",
        "\n",
        "a = cl.clrandom.rand(queue, (300, 300), dtype=np.float64)\n",
        "b = cl.clrandom.rand(queue, (300, 300), dtype=np.float64)\n",
        "\n",
        "ab = loopy_einsum(queue, \"ik,kj->ij\", a, b)\n",
        "\n",
        "diff =  a.get().dot(b.get()) - ab.get()\n",
        "\n",
        "print(la.norm(diff, 2))"
      ]
    },
    {
      "cell_type": "code",
      "execution_count": null,
      "metadata": {
        "collapsed": false
      },
      "outputs": [],
      "source": []
    }
  ],
  "metadata": {},
  "nbformat": 4,
  "nbformat_minor": 0
}