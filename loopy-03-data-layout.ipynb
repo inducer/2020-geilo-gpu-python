{
  "cells": [
    {
      "cell_type": "markdown",
      "metadata": {},
      "source": [
        "# Loopy: Controlling data layout\n",
        "\n",
        "## Setup code"
      ]
    },
    {
      "cell_type": "code",
      "execution_count": 1,
      "metadata": {
        "collapsed": false
      },
      "outputs": [],
      "source": [
        "import numpy as np\n",
        "import pyopencl as cl\n",
        "import pyopencl.array\n",
        "import pyopencl.clrandom\n",
        "import loopy as lp"
      ]
    },
    {
      "cell_type": "code",
      "execution_count": 2,
      "metadata": {
        "collapsed": false
      },
      "outputs": [],
      "source": [
        "ctx = cl.create_some_context()\n",
        "queue = cl.CommandQueue(ctx)"
      ]
    },
    {
      "cell_type": "markdown",
      "metadata": {},
      "source": [
        "## A kernel on a structured array"
      ]
    },
    {
      "cell_type": "code",
      "execution_count": 6,
      "metadata": {
        "collapsed": false
      },
      "outputs": [],
      "source": [
        "knl = lp.make_kernel(\n",
        "    \"{[el,dof, comp]: \"\n",
        "        \"0<=el<nels \"\n",
        "        \"and 0<=dof<14 \"\n",
        "        \"and 0<=comp < 3}\",\n",
        "    \"D[el, dof, comp] = eps[el] * E[el, dof, comp]\")\n",
        "\n",
        "knl = lp.set_options(knl, write_cl=True)"
      ]
    },
    {
      "cell_type": "code",
      "execution_count": 7,
      "metadata": {
        "collapsed": false
      },
      "outputs": [],
      "source": [
        "eps = np.random.randn(500)\n",
        "E = cl.clrandom.rand(queue, (500, 14, 3), dtype=np.float64)"
      ]
    },
    {
      "cell_type": "code",
      "execution_count": 8,
      "metadata": {
        "collapsed": false
      },
      "outputs": [],
      "source": [
        "mknl = knl.copy()\n",
        "evt, _ = mknl(queue, eps=eps, E=E)"
      ]
    },
    {
      "cell_type": "markdown",
      "metadata": {},
      "source": [
        "## Changing the layout\n",
        "\n",
        "`E` and `D` are currently laid out as AoS. What if I want SoA?"
      ]
    },
    {
      "cell_type": "code",
      "execution_count": 9,
      "metadata": {
        "collapsed": false
      },
      "outputs": [],
      "source": [
        "mknl = knl\n",
        "\n",
        "mknl  = lp.tag_data_axes(mknl, \"E\", \"c,c,sep\")\n",
        "mknl = lp.tag_inames(mknl, {\"comp\": \"unr\"})\n",
        "mknl = lp.set_loop_priority(mknl, \"el,dof,comp\")\n",
        "\n",
        "# change data format of E\n",
        "copy_knl = lp.make_copy_kernel(\"c,c,sep\")\n",
        "copy_knl = lp.fix_parameters(copy_knl, n2=3)\n",
        "evt, E_new = copy_knl(queue, input=E)\n",
        "\n",
        "evt, _ = mknl(queue, eps=eps, E=E_new)"
      ]
    },
    {
      "cell_type": "markdown",
      "metadata": {},
      "source": [
        "May want to add padding (demo).\n",
        "\n",
        "---\n",
        "\n",
        "Grouped padding exists as well."
      ]
    }
  ],
  "metadata": {},
  "nbformat": 4,
  "nbformat_minor": 0
}