{
  "cells": [
    {
      "cell_type": "markdown",
      "metadata": {},
      "source": [
        "# Using Memory Performance Characteristics"
      ]
    },
    {
      "cell_type": "code",
      "execution_count": 1,
      "metadata": {},
      "outputs": [],
      "source": [
        "import pyopencl as cl\n",
        "import pyopencl.clrandom\n",
        "import pyopencl.array\n",
        "import numpy as np\n",
        "import loopy as lp\n",
        "\n",
        "from time import time"
      ]
    },
    {
      "cell_type": "code",
      "execution_count": 2,
      "metadata": {},
      "outputs": [
        {
          "name": "stdout",
          "output_type": "stream",
          "text": [
            "Choose platform:\n",
            "[0] <pyopencl.Platform 'NVIDIA CUDA' at 0x2988060>\n",
            "[1] <pyopencl.Platform 'Intel(R) OpenCL' at 0x27b28f8>\n",
            "[2] <pyopencl.Platform 'Portable Computing Language' at 0x7fd42476d5c0>\n",
            "Choice [0]:\n",
            "Choose device(s):\n",
            "[0] <pyopencl.Device 'GeForce GTX TITAN X' on 'NVIDIA CUDA' at 0x2997da0>\n",
            "[1] <pyopencl.Device 'GeForce GTX TITAN X' on 'NVIDIA CUDA' at 0x2999650>\n",
            "Choice, comma-separated [0]:1\n",
            "Set the environment variable PYOPENCL_CTX=':1' to avoid being asked again.\n"
          ]
        }
      ],
      "source": [
        "ctx = cl.create_some_context(interactive=True)\n",
        "queue = cl.CommandQueue(ctx)"
      ]
    },
    {
      "cell_type": "markdown",
      "metadata": {},
      "source": [
        "# Transposing a Matrix\n",
        "\n",
        "The code below realizes a simple matrix transpose:"
      ]
    },
    {
      "cell_type": "code",
      "execution_count": 125,
      "metadata": {},
      "outputs": [
        {
          "name": "stdout",
          "output_type": "stream",
          "text": [
            "<class 'str'>\n",
            "\n",
            "#define lid(N) ((int) get_local_id(N))\n",
            "#define gid(N) ((int) get_group_id(N))\n",
            "\n",
            "__kernel void __attribute__ ((reqd_work_group_size(16, 16, 1))) transp(__global float *__restrict__ result, __global float const *__restrict__ a, int const n)\n",
            "{\n",
            "  result[n * (16 * gid(0) + lid(1)) + 16 * gid(1) + lid(0)] = a[n * (16 * gid(1) + lid(0)) + 16 * gid(0) + lid(1)];\n",
            "}\n"
          ]
        }
      ],
      "source": [
        "knl = lp.make_kernel(\n",
        "    \"{[i,j]: 0<=i,j<n}\",\n",
        "    \"result[i,j] = a[j,i]\",\n",
        "    lang_version=(2018, 2), name=\"transp\")\n",
        "\n",
        "knl = lp.assume(knl, \"n mod 16 = 0\")\n",
        "knl = lp.add_and_infer_dtypes(knl, {\"a\": np.float32})\n",
        "knl = lp.split_iname(knl,\n",
        "        \"i\", 16, outer_tag=\"g.0\", inner_tag=\"l.1\")\n",
        "knl = lp.split_iname(knl,\n",
        "        \"j\", 16, outer_tag=\"g.1\", inner_tag=\"l.0\")\n",
        "knl = lp.set_argument_order(knl, \"result,a,n\")\n",
        "\n",
        "code = lp.generate_code_v2(knl).device_code()\n",
        "\n",
        "print(type(code))\n",
        "print()\n",
        "print(code)"
      ]
    },
    {
      "cell_type": "markdown",
      "metadata": {},
      "source": [
        "Now compile this code and get `clknl`:"
      ]
    },
    {
      "cell_type": "code",
      "execution_count": 126,
      "metadata": {},
      "outputs": [],
      "source": [
        "prg = cl.Program(ctx, code).build()\n",
        "clknl = prg.transp"
      ]
    },
    {
      "cell_type": "markdown",
      "metadata": {},
      "source": [
        "Now set up the data:"
      ]
    },
    {
      "cell_type": "code",
      "execution_count": 127,
      "metadata": {},
      "outputs": [],
      "source": [
        "n = 1024*19\n",
        "a = cl.clrandom.rand(queue, (n, n), np.float32)\n",
        "result = cl.array.empty(queue, (n, n), np.float32)"
      ]
    },
    {
      "cell_type": "markdown",
      "metadata": {},
      "source": [
        "And time the execution:"
      ]
    },
    {
      "cell_type": "code",
      "execution_count": 130,
      "metadata": {},
      "outputs": [
        {
          "name": "stdout",
          "output_type": "stream",
          "text": [
            "0.02455599308013916 s elapsed\n"
          ]
        }
      ],
      "source": [
        "def run():\n",
        "    clknl(queue, (n, n), (16, 16), result.data, a.data, np.int32(n))\n",
        "\n",
        "run()\n",
        "run()\n",
        "run()\n",
        "\n",
        "nruns = 10\n",
        "queue.finish()\n",
        "start_time = time()\n",
        "for i in range(nruns):\n",
        "    run()\n",
        "queue.finish()\n",
        "elapsed = (time() - start_time)/nruns\n",
        "print(f\"{elapsed} s elapsed\")"
      ]
    },
    {
      "cell_type": "markdown",
      "metadata": {},
      "source": [
        "Now do bandwidth accounting."
      ]
    },
    {
      "cell_type": "code",
      "execution_count": 131,
      "metadata": {},
      "outputs": [
        {
          "name": "stdout",
          "output_type": "stream",
          "text": [
            "bandwidth: 123.32172753580359 GB/s\n"
          ]
        }
      ],
      "source": [
        "bandwidth = (result.nbytes + a.nbytes)/elapsed/1e9\n",
        "print(f\"bandwidth: {bandwidth} GB/s\")"
      ]
    },
    {
      "cell_type": "markdown",
      "metadata": {},
      "source": [
        "## With Scratchpad Use"
      ]
    },
    {
      "cell_type": "code",
      "execution_count": 132,
      "metadata": {},
      "outputs": [
        {
          "name": "stdout",
          "output_type": "stream",
          "text": [
            "#define lid(N) ((int) get_local_id(N))\n",
            "#define gid(N) ((int) get_group_id(N))\n",
            "\n",
            "__kernel void __attribute__ ((reqd_work_group_size(16, 16, 1))) transp(__global float *__restrict__ result, __global float const *__restrict__ a, int const n)\n",
            "{\n",
            "  __local float a_fetch[16 * 16];\n",
            "\n",
            "  a_fetch[16 * lid(1) + lid(0)] = a[n * (16 * gid(1) + lid(1)) + 16 * gid(0) + lid(0)];\n",
            "  barrier(CLK_LOCAL_MEM_FENCE) /* for a_fetch (insn depends on a_fetch_rule) */;\n",
            "  result[n * (16 * gid(0) + lid(1)) + 16 * gid(1) + lid(0)] = a_fetch[16 * lid(0) + lid(1)];\n",
            "}\n"
          ]
        }
      ],
      "source": [
        "knl_pf = lp.add_prefetch(knl, \"a\",\n",
        "        [\"i_inner\", \"j_inner\"],\n",
        "        default_tag=None)\n",
        "knl_pf = lp.tag_inames(knl_pf, {\"a_dim_0\": \"l.1\", \"a_dim_1\": \"l.0\"})\n",
        "code = lp.generate_code_v2(knl_pf).device_code()\n",
        "\n",
        "print(code)\n",
        "\n",
        "prg = cl.Program(ctx, code).build()\n",
        "clknl = prg.transp"
      ]
    },
    {
      "cell_type": "code",
      "execution_count": 133,
      "metadata": {},
      "outputs": [
        {
          "name": "stdout",
          "output_type": "stream",
          "text": [
            "0.020562100410461425 s elapsed\n"
          ]
        }
      ],
      "source": [
        "def run():\n",
        "    clknl(queue, (n, n), (16, 16), result.data, a.data, np.int32(n))\n",
        "\n",
        "run()\n",
        "run()\n",
        "run()\n",
        "\n",
        "nruns = 10\n",
        "queue.finish()\n",
        "start_time = time()\n",
        "for i in range(nruns):\n",
        "    run()\n",
        "queue.finish()\n",
        "elapsed = (time() - start_time)/nruns\n",
        "print(f\"{elapsed} s elapsed\")"
      ]
    },
    {
      "cell_type": "code",
      "execution_count": 134,
      "metadata": {},
      "outputs": [
        {
          "name": "stdout",
          "output_type": "stream",
          "text": [
            "bandwidth: 147.2752018300276 GB/s\n"
          ]
        }
      ],
      "source": [
        "bandwidth = (result.nbytes + a.nbytes)/elapsed/1e9\n",
        "print(f\"bandwidth: {bandwidth} GB/s\")"
      ]
    },
    {
      "cell_type": "code",
      "execution_count": null,
      "metadata": {},
      "outputs": [],
      "source": []
    }
  ],
  "metadata": {
    "kernelspec": {
      "display_name": "Python 3",
      "language": "python",
      "name": "python3"
    },
    "language_info": {
      "codemirror_mode": {
        "name": "ipython",
        "version": 3
      },
      "file_extension": ".py",
      "mimetype": "text/x-python",
      "name": "python",
      "nbconvert_exporter": "python",
      "pygments_lexer": "ipython3",
      "version": "3.7.5"
    }
  },
  "nbformat": 4,
  "nbformat_minor": 2
}