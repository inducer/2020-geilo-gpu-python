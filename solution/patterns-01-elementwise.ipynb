{
  "cells": [
    {
      "cell_type": "markdown",
      "metadata": {},
      "source": [
        "# PyOpenCL Parallel Patterns: Map/Elementwise"
      ]
    },
    {
      "cell_type": "markdown",
      "metadata": {},
      "source": [
        "## Setup code"
      ]
    },
    {
      "cell_type": "code",
      "execution_count": 1,
      "metadata": {
        "jupyter": {
          "outputs_hidden": false
        }
      },
      "outputs": [],
      "source": [
        "import pyopencl as cl\n",
        "import pyopencl.array\n",
        "import pyopencl.clrandom\n",
        "import pyopencl.tools\n",
        "import numpy as np"
      ]
    },
    {
      "cell_type": "code",
      "execution_count": 2,
      "metadata": {
        "jupyter": {
          "outputs_hidden": false
        }
      },
      "outputs": [
        {
          "name": "stdout",
          "output_type": "stream",
          "text": [
            "Choose platform:\n",
            "[0] <pyopencl.Platform 'NVIDIA CUDA' at 0x1d5f790>\n",
            "[1] <pyopencl.Platform 'Intel(R) OpenCL' at 0x1d5d818>\n",
            "[2] <pyopencl.Platform 'Portable Computing Language' at 0x7f280ef385c0>\n",
            "Choice [0]:\n",
            "Choose device(s):\n",
            "[0] <pyopencl.Device 'GeForce GTX TITAN X' on 'NVIDIA CUDA' at 0x1d6f680>\n",
            "[1] <pyopencl.Device 'GeForce GTX TITAN X' on 'NVIDIA CUDA' at 0x1d70db0>\n",
            "Choice, comma-separated [0]:\n",
            "Set the environment variable PYOPENCL_CTX=':' to avoid being asked again.\n"
          ]
        }
      ],
      "source": [
        "ctx = cl.create_some_context(interactive=True)\n",
        "queue = cl.CommandQueue(ctx)"
      ]
    },
    {
      "cell_type": "code",
      "execution_count": 3,
      "metadata": {
        "jupyter": {
          "outputs_hidden": false
        }
      },
      "outputs": [],
      "source": [
        "n = 10**7\n",
        "a = cl.clrandom.rand(queue, n, np.float32)\n",
        "b = cl.clrandom.rand(queue, n, np.float32)"
      ]
    },
    {
      "cell_type": "markdown",
      "metadata": {},
      "source": [
        "## A simple 'target application'"
      ]
    },
    {
      "cell_type": "markdown",
      "metadata": {},
      "source": [
        "We would like to evaluate this linear combination:"
      ]
    },
    {
      "cell_type": "code",
      "execution_count": 4,
      "metadata": {
        "jupyter": {
          "outputs_hidden": false
        }
      },
      "outputs": [],
      "source": [
        "c1 = 5*a + 6*b"
      ]
    },
    {
      "cell_type": "markdown",
      "metadata": {},
      "source": [
        "A problem with this is that every single operator (all three of them--and easily more for complicated expressions) corresponds to a kernel call, which can lead to high overhead. Let's try and avoid that by stuffing the entire operation into one kernel, in turn saving lots of memory traffic:"
      ]
    },
    {
      "cell_type": "code",
      "execution_count": 5,
      "metadata": {
        "jupyter": {
          "outputs_hidden": false
        }
      },
      "outputs": [],
      "source": [
        "from pyopencl.elementwise import ElementwiseKernel"
      ]
    },
    {
      "cell_type": "markdown",
      "metadata": {},
      "source": [
        "Arguments: `ElementwiseKernel(ctx, c_args, operation)`"
      ]
    },
    {
      "cell_type": "code",
      "execution_count": 6,
      "metadata": {
        "jupyter": {
          "outputs_hidden": false
        }
      },
      "outputs": [],
      "source": [
        "lin_comb = ElementwiseKernel(ctx,\n",
        "        \"float a, float *x, float b, float *y, float *c\",\n",
        "        \"c[i] = a*x[i] + b*y[i]\")"
      ]
    },
    {
      "cell_type": "code",
      "execution_count": 7,
      "metadata": {
        "jupyter": {
          "outputs_hidden": false
        }
      },
      "outputs": [
        {
          "data": {
            "text/plain": [
              "<pyopencl._cl.Event at 0x7f2878346fb0>"
            ]
          },
          "execution_count": 7,
          "metadata": {},
          "output_type": "execute_result"
        }
      ],
      "source": [
        "c2 = cl.array.empty_like(a)\n",
        "lin_comb(5, a, 6, b, c2)"
      ]
    },
    {
      "cell_type": "code",
      "execution_count": 28,
      "metadata": {
        "jupyter": {
          "outputs_hidden": false
        }
      },
      "outputs": [
        {
          "name": "stdout",
          "output_type": "stream",
          "text": [
            "9.536743e-07\n"
          ]
        }
      ],
      "source": [
        "import numpy.linalg as la\n",
        "print(la.norm(c1.get() - c2.get(), ord=np.inf))"
      ]
    },
    {
      "cell_type": "markdown",
      "metadata": {},
      "source": [
        "## Timing ElementwiseKernel\n",
        "\n",
        "Did this optimization pay off?"
      ]
    },
    {
      "cell_type": "code",
      "execution_count": 16,
      "metadata": {},
      "outputs": [],
      "source": [
        "mem_pool = pyopencl.tools.MemoryPool(pyopencl.tools.ImmediateAllocator(queue))\n",
        "\n",
        "a = cl.array.empty(queue, n, np.float32, allocator=mem_pool)\n",
        "b = cl.array.empty(queue, n, np.float32, allocator=mem_pool)\n",
        "\n",
        "cl.clrandom.fill_rand(a)\n",
        "cl.clrandom.fill_rand(b)"
      ]
    },
    {
      "cell_type": "code",
      "execution_count": 19,
      "metadata": {
        "jupyter": {
          "outputs_hidden": false
        }
      },
      "outputs": [
        {
          "name": "stdout",
          "output_type": "stream",
          "text": [
            "elapsed: 0.013091564178466797 s\n"
          ]
        }
      ],
      "source": [
        "from time import time\n",
        "\n",
        "for i in range(3):\n",
        "    c1 = 5*a + 6*b\n",
        "    \n",
        "queue.finish()\n",
        "start_time = time()\n",
        "\n",
        "for i in range(10):\n",
        "    c1 = 5*a + 6*b\n",
        "    \n",
        "queue.finish()\n",
        "print(\"elapsed: {0} s\".format(time()-start_time))"
      ]
    },
    {
      "cell_type": "code",
      "execution_count": 20,
      "metadata": {
        "jupyter": {
          "outputs_hidden": false
        }
      },
      "outputs": [
        {
          "name": "stdout",
          "output_type": "stream",
          "text": [
            "elapsed: 0.0056154727935791016 s\n"
          ]
        }
      ],
      "source": [
        "from time import time\n",
        "\n",
        "for i in range(3):\n",
        "    lin_comb(5, a, 6, b, c2)\n",
        "    \n",
        "queue.finish()\n",
        "start_time = time()\n",
        "\n",
        "for i in range(10):\n",
        "    lin_comb(5, a, 6, b, c2)\n",
        "    \n",
        "queue.finish()\n",
        "print(\"elapsed: {0} s\".format(time()-start_time))"
      ]
    },
    {
      "cell_type": "markdown",
      "metadata": {},
      "source": [
        "What happens without the memory pool?"
      ]
    },
    {
      "cell_type": "code",
      "execution_count": null,
      "metadata": {},
      "outputs": [],
      "source": []
    }
  ],
  "metadata": {
    "kernelspec": {
      "display_name": "Python 3",
      "language": "python",
      "name": "python3"
    },
    "language_info": {
      "codemirror_mode": {
        "name": "ipython",
        "version": 3
      },
      "file_extension": ".py",
      "mimetype": "text/x-python",
      "name": "python",
      "nbconvert_exporter": "python",
      "pygments_lexer": "ipython3",
      "version": "3.7.5"
    }
  },
  "nbformat": 4,
  "nbformat_minor": 4
}