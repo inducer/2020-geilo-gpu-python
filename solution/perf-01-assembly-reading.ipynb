{
  "cells": [
    {
      "cell_type": "markdown",
      "metadata": {},
      "source": [
        "# Assembly Reading Comprehension"
      ]
    },
    {
      "cell_type": "code",
      "execution_count": 7,
      "metadata": {},
      "outputs": [],
      "source": [
        "!rm -Rf tmp\n",
        "!mkdir -p tmp"
      ]
    },
    {
      "cell_type": "markdown",
      "metadata": {},
      "source": [
        "Here is a simple snippet of C:"
      ]
    },
    {
      "cell_type": "code",
      "execution_count": 25,
      "metadata": {},
      "outputs": [
        {
          "name": "stdout",
          "output_type": "stream",
          "text": [
            "Overwriting tmp/asm-reading-comprehension.c\n"
          ]
        }
      ],
      "source": [
        "%%writefile tmp/asm-reading-comprehension.c\n",
        "\n",
        "int do_stuff()\n",
        "{\n",
        "  int sum = 0;\n",
        "  for (int i = 1; i <= 100; ++i)\n",
        "    sum += i*i;\n",
        "  return sum;\n",
        "}"
      ]
    },
    {
      "cell_type": "markdown",
      "metadata": {},
      "source": [
        "Compile the file:"
      ]
    },
    {
      "cell_type": "code",
      "execution_count": 26,
      "metadata": {},
      "outputs": [],
      "source": [
        "!cd tmp; gcc -c -O0 asm-reading-comprehension.c"
      ]
    },
    {
      "cell_type": "markdown",
      "metadata": {},
      "source": [
        "Now disassemble:"
      ]
    },
    {
      "cell_type": "code",
      "execution_count": 27,
      "metadata": {},
      "outputs": [
        {
          "name": "stdout",
          "output_type": "stream",
          "text": [
            "\n",
            "tmp/asm-reading-comprehension.o:     file format elf64-x86-64\n",
            "\n",
            "\n",
            "Disassembly of section .text:\n",
            "\n",
            "0000000000000000 <do_stuff>:\n",
            "   0:\t55                   \tpush   %rbp\n",
            "   1:\t48 89 e5             \tmov    %rsp,%rbp\n",
            "   4:\tc7 45 fc 00 00 00 00 \tmovl   $0x0,-0x4(%rbp)\n",
            "   b:\tc7 45 f8 01 00 00 00 \tmovl   $0x1,-0x8(%rbp)\n",
            "  12:\teb 0e                \tjmp    22 <do_stuff+0x22>\n",
            "  14:\t8b 45 f8             \tmov    -0x8(%rbp),%eax\n",
            "  17:\t0f af 45 f8          \timul   -0x8(%rbp),%eax\n",
            "  1b:\t01 45 fc             \tadd    %eax,-0x4(%rbp)\n",
            "  1e:\t83 45 f8 01          \taddl   $0x1,-0x8(%rbp)\n",
            "  22:\t83 7d f8 64          \tcmpl   $0x64,-0x8(%rbp)\n",
            "  26:\t7e ec                \tjle    14 <do_stuff+0x14>\n",
            "  28:\t8b 45 fc             \tmov    -0x4(%rbp),%eax\n",
            "  2b:\t5d                   \tpop    %rbp\n",
            "  2c:\tc3                   \tretq   \n"
          ]
        }
      ],
      "source": [
        "!objdump --disassemble tmp/asm-reading-comprehension.o"
      ]
    },
    {
      "cell_type": "markdown",
      "metadata": {},
      "source": [
        "How does optimization change the outcome?"
      ]
    },
    {
      "cell_type": "code",
      "execution_count": 28,
      "metadata": {},
      "outputs": [
        {
          "name": "stdout",
          "output_type": "stream",
          "text": [
            "\n",
            "tmp/asm-reading-comprehension.o:     file format elf64-x86-64\n",
            "\n",
            "\n",
            "Disassembly of section .text:\n",
            "\n",
            "0000000000000000 <do_stuff>:\n",
            "   0:\tb8 64 00 00 00       \tmov    $0x64,%eax\n",
            "   5:\t83 e8 01             \tsub    $0x1,%eax\n",
            "   8:\t75 fb                \tjne    5 <do_stuff+0x5>\n",
            "   a:\tb8 ae 29 05 00       \tmov    $0x529ae,%eax\n",
            "   f:\tc3                   \tretq   \n"
          ]
        }
      ],
      "source": [
        "!cd tmp; gcc -c -O asm-reading-comprehension.c\n",
        "!objdump --disassemble tmp/asm-reading-comprehension.o"
      ]
    },
    {
      "cell_type": "markdown",
      "metadata": {},
      "source": [
        "... even more optimization?"
      ]
    },
    {
      "cell_type": "code",
      "execution_count": 29,
      "metadata": {},
      "outputs": [
        {
          "name": "stdout",
          "output_type": "stream",
          "text": [
            "\n",
            "tmp/asm-reading-comprehension.o:     file format elf64-x86-64\n",
            "\n",
            "\n",
            "Disassembly of section .text:\n",
            "\n",
            "0000000000000000 <do_stuff>:\n",
            "   0:\tb8 ae 29 05 00       \tmov    $0x529ae,%eax\n",
            "   5:\tc3                   \tretq   \n"
          ]
        }
      ],
      "source": [
        "!cd tmp; gcc -c -O3 asm-reading-comprehension.c\n",
        "!objdump --disassemble tmp/asm-reading-comprehension.o"
      ]
    },
    {
      "cell_type": "code",
      "execution_count": null,
      "metadata": {},
      "outputs": [],
      "source": []
    }
  ],
  "metadata": {
    "kernelspec": {
      "display_name": "Python 3",
      "language": "python",
      "name": "python3"
    },
    "language_info": {
      "codemirror_mode": {
        "name": "ipython",
        "version": 3
      },
      "file_extension": ".py",
      "mimetype": "text/x-python",
      "name": "python",
      "nbconvert_exporter": "python",
      "pygments_lexer": "ipython3",
      "version": "3.6.6"
    }
  },
  "nbformat": 4,
  "nbformat_minor": 2
}