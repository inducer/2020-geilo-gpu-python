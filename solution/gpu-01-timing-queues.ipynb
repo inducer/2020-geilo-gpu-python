{
  "cells": [
    {
      "cell_type": "markdown",
      "metadata": {},
      "source": [
        "# Timing GPU Work\n",
        "\n",
        "We would like to time GPU work, in this case a vector addition."
      ]
    },
    {
      "cell_type": "code",
      "execution_count": 1,
      "metadata": {},
      "outputs": [],
      "source": [
        "import pyopencl as cl\n",
        "import numpy as np\n",
        "import pyopencl.clrandom\n",
        "from time import time"
      ]
    },
    {
      "cell_type": "code",
      "execution_count": 2,
      "metadata": {},
      "outputs": [
        {
          "name": "stdout",
          "output_type": "stream",
          "text": [
            "Choose platform:\n",
            "[0] <pyopencl.Platform 'NVIDIA CUDA' at 0x28bcdf0>\n",
            "[1] <pyopencl.Platform 'Intel(R) OpenCL' at 0x28b9218>\n",
            "[2] <pyopencl.Platform 'Portable Computing Language' at 0x7fd9a796d5c0>\n",
            "Choice [0]:\n",
            "Choose device(s):\n",
            "[0] <pyopencl.Device 'GeForce GTX TITAN X' on 'NVIDIA CUDA' at 0x28c74d0>\n",
            "[1] <pyopencl.Device 'GeForce GTX TITAN X' on 'NVIDIA CUDA' at 0x28cbf00>\n",
            "Choice, comma-separated [0]:1\n",
            "Set the environment variable PYOPENCL_CTX=':1' to avoid being asked again.\n"
          ]
        }
      ],
      "source": [
        "ctx = cl.create_some_context(interactive=True)\n",
        "queue = cl.CommandQueue(ctx)"
      ]
    },
    {
      "cell_type": "code",
      "execution_count": 57,
      "metadata": {},
      "outputs": [],
      "source": [
        "n = 5_000_000\n",
        "\n",
        "a = cl.clrandom.rand(queue, n, np.float32)\n",
        "b = cl.clrandom.rand(queue, n, np.float32)\n",
        "c = cl.array.empty_like(a)"
      ]
    },
    {
      "cell_type": "code",
      "execution_count": 58,
      "metadata": {},
      "outputs": [],
      "source": [
        "prg = cl.Program(ctx, \"\"\"\n",
        "    __kernel void addvec(__global float *a, __global float *b, __global float *c, int n)\n",
        "    {\n",
        "      int i = get_global_id(0);\n",
        "      if (i < n)\n",
        "        c[i] = a[i] + b[i];\n",
        "    }\n",
        "    \"\"\").build()\n",
        "addvec = prg.addvec"
      ]
    },
    {
      "cell_type": "markdown",
      "metadata": {},
      "source": [
        "**Before every experiment:** What do you expect will happen?\n",
        "\n",
        "\n",
        "Now write the timing code:"
      ]
    },
    {
      "cell_type": "code",
      "execution_count": 84,
      "metadata": {},
      "outputs": [
        {
          "name": "stdout",
          "output_type": "stream",
          "text": [
            "0.0002655744552612305 s elapsed\n",
            "bandwidth: 225.92534338809585 GB/s\n"
          ]
        }
      ],
      "source": [
        "wgsize = 256\n",
        "gridsize = (((n+wgsize-1)//wgsize)*wgsize,)\n",
        "addvec(queue, gridsize, (wgsize,), a.data, b.data, c.data, np.int32(n))\n",
        "addvec(queue, gridsize, (wgsize,), a.data, b.data, c.data, np.int32(n))\n",
        "\n",
        "nruns = 10\n",
        "queue.finish()\n",
        "start_time = time()\n",
        "for i in range(nruns):\n",
        "    addvec(queue, gridsize, (wgsize,), a.data, b.data, c.data, np.int32(n))\n",
        "queue.finish()\n",
        "elapsed = (time() - start_time)/nruns\n",
        "print(f\"{elapsed} s elapsed\")\n",
        "\n",
        "bandwidth = 3*a.nbytes/elapsed/1e9\n",
        "print(f\"bandwidth: {bandwidth} GB/s\")"
      ]
    },
    {
      "cell_type": "markdown",
      "metadata": {},
      "source": [
        "How can we check our answers? (edit this cell to see suggestions)\n",
        "\n",
        "<!--\n",
        "- Change the size of the array. How does the measurement respond?\n",
        "- Repeat the measurement\n",
        "-->"
      ]
    },
    {
      "cell_type": "code",
      "execution_count": null,
      "metadata": {},
      "outputs": [],
      "source": []
    }
  ],
  "metadata": {
    "kernelspec": {
      "display_name": "Python 3",
      "language": "python",
      "name": "python3"
    },
    "language_info": {
      "codemirror_mode": {
        "name": "ipython",
        "version": 3
      },
      "file_extension": ".py",
      "mimetype": "text/x-python",
      "name": "python",
      "nbconvert_exporter": "python",
      "pygments_lexer": "ipython3",
      "version": "3.7.5"
    }
  },
  "nbformat": 4,
  "nbformat_minor": 2
}