{
  "cells": [
    {
      "cell_type": "markdown",
      "metadata": {},
      "source": [
        "# (Toy) Fortran Frontend for Loopy"
      ]
    },
    {
      "cell_type": "code",
      "execution_count": 10,
      "metadata": {},
      "outputs": [],
      "source": [
        "import loopy as lp"
      ]
    },
    {
      "cell_type": "code",
      "execution_count": 3,
      "metadata": {},
      "outputs": [],
      "source": [
        "src = \"\"\"subroutine sparse(rowstarts, colindices, values, m, n, nvals, x, y)\n",
        "  implicit none\n",
        "\n",
        "  integer rowstarts(m+1), colindices(nvals)\n",
        "  real*8 values(nvals)\n",
        "  real*8 x(n), y(n), rowsum\n",
        "\n",
        "  integer m, n, rowstart, rowend, length, nvals\n",
        "  integer i, j\n",
        "\n",
        "  do i = 1, m\n",
        "    rowstart = rowstarts(i)\n",
        "    rowend = rowstarts(i+1)\n",
        "    length = rowend - rowstart\n",
        "\n",
        "    rowsum = 0\n",
        "    do j = 1, length\n",
        "      rowsum = rowsum + &\n",
        "        x(colindices(rowstart+j-1))*values(rowstart+j-1)\n",
        "    end do\n",
        "    y(i) = rowsum\n",
        "  end do\n",
        "end\n",
        "\"\"\""
      ]
    },
    {
      "cell_type": "markdown",
      "metadata": {},
      "source": [
        "`lp.parse_fortran(src, filename)`"
      ]
    },
    {
      "cell_type": "code",
      "execution_count": 13,
      "metadata": {},
      "outputs": [
        {
          "name": "stdout",
          "output_type": "stream",
          "text": [
            "---------------------------------------------------------------------------\n",
            "KERNEL: sparse\n",
            "---------------------------------------------------------------------------\n",
            "ARGUMENTS:\n",
            "colindices: type: np:dtype('int32'), shape: (nvals), dim_tags: (N0:stride:1) aspace: global\n",
            "m: ValueArg, type: np:dtype('int32')\n",
            "n: ValueArg, type: np:dtype('int32')\n",
            "nvals: ValueArg, type: np:dtype('int32')\n",
            "rowstarts: type: np:dtype('int32'), shape: (m + 1), dim_tags: (N0:stride:1) aspace: global\n",
            "values: type: np:dtype('float64'), shape: (nvals), dim_tags: (N0:stride:1) aspace: global\n",
            "x: type: np:dtype('float64'), shape: (n), dim_tags: (N0:stride:1) aspace: global\n",
            "y: type: np:dtype('float64'), shape: (n), dim_tags: (N0:stride:1) aspace: global\n",
            "---------------------------------------------------------------------------\n",
            "DOMAINS:\n",
            "[m] -> { [i] : 0 <= i < m }\n",
            "  [length] -> { [j] : 0 <= j < length }\n",
            "---------------------------------------------------------------------------\n",
            "INAME IMPLEMENTATION TAGS:\n",
            "i: None\n",
            "j: None\n",
            "---------------------------------------------------------------------------\n",
            "TEMPORARIES:\n",
            "length: type: np:dtype('int32'), shape: () scope:auto\n",
            "rowend: type: np:dtype('int32'), shape: () scope:auto\n",
            "rowstart: type: np:dtype('int32'), shape: () scope:auto\n",
            "rowsum: type: np:dtype('float64'), shape: () scope:auto\n",
            "---------------------------------------------------------------------------\n",
            "INSTRUCTIONS:\n",
            "   for i\n",
            "\u21b1    \u001b[36mrowstart\u001b[0m = \u001b[35mrowstarts[i]\u001b[0m  {id=\u001b[32minsn0\u001b[0m}\n",
            "\u2514\u21b1   \u001b[36mrowend\u001b[0m = \u001b[35mrowstarts[1 + i]\u001b[0m  {id=\u001b[32minsn1\u001b[0m}\n",
            "\u21b1\u2514   \u001b[36mlength\u001b[0m = \u001b[35mrowend + (-1)*rowstart\u001b[0m  {id=\u001b[32minsn2\u001b[0m}\n",
            "\u2514\u21b1   \u001b[36mrowsum\u001b[0m = \u001b[35m0\u001b[0m  {id=\u001b[32minsn3\u001b[0m}\n",
            " \u2502   for j\n",
            "\u21b1\u2514     \u001b[36mrowsum\u001b[0m = \u001b[35mrowsum + x[-1 + colindices[-1 + rowstart + j]]*values[-1 + rowstart + j]\u001b[0m  {id=\u001b[32minsn4\u001b[0m}\n",
            "\u2502    end j\n",
            "\u2514    \u001b[36my[i]\u001b[0m = \u001b[35mrowsum\u001b[0m  {id=\u001b[32minsn5\u001b[0m}\n",
            "   end i\n",
            "---------------------------------------------------------------------------\n"
          ]
        }
      ],
      "source": [
        "sparse, = lp.parse_fortran(src, \"<notebook>\")\n",
        "print(sparse)"
      ]
    },
    {
      "cell_type": "code",
      "execution_count": 14,
      "metadata": {},
      "outputs": [
        {
          "name": "stdout",
          "output_type": "stream",
          "text": [
            "---------------------------------------------------------------------------\n",
            "KERNEL: sparse\n",
            "---------------------------------------------------------------------------\n",
            "ARGUMENTS:\n",
            "colindices: type: np:dtype('int32'), shape: (nvals), dim_tags: (N0:stride:1) aspace: global\n",
            "m: ValueArg, type: np:dtype('int32')\n",
            "n: ValueArg, type: np:dtype('int32')\n",
            "nvals: ValueArg, type: np:dtype('int32')\n",
            "rowstarts: type: np:dtype('int32'), shape: (m + 1), dim_tags: (N0:stride:1) aspace: global\n",
            "values: type: np:dtype('float64'), shape: (nvals), dim_tags: (N0:stride:1) aspace: global\n",
            "x: type: np:dtype('float64'), shape: (n), dim_tags: (N0:stride:1) aspace: global\n",
            "y: type: np:dtype('float64'), shape: (n), dim_tags: (N0:stride:1) aspace: global\n",
            "---------------------------------------------------------------------------\n",
            "DOMAINS:\n",
            "[m] -> { [i_outer, i_inner] : i_inner >= 0 and -128i_outer <= i_inner <= 127 and i_inner < m - 128i_outer }\n",
            "  [length] -> { [j_outer, j_inner] : j_inner >= 0 and -4j_outer <= j_inner <= 3 and j_inner < length - 4j_outer }\n",
            "---------------------------------------------------------------------------\n",
            "INAME IMPLEMENTATION TAGS:\n",
            "i_inner: l.0\n",
            "i_outer: g.0\n",
            "j_inner: unr\n",
            "j_outer: None\n",
            "---------------------------------------------------------------------------\n",
            "TEMPORARIES:\n",
            "length: type: np:dtype('int32'), shape: () scope:auto\n",
            "rowend: type: np:dtype('int32'), shape: () scope:auto\n",
            "rowstart: type: np:dtype('int32'), shape: () scope:auto\n",
            "rowsum: type: np:dtype('float64'), shape: () scope:auto\n",
            "---------------------------------------------------------------------------\n",
            "INSTRUCTIONS:\n",
            "   for i_outer, i_inner\n",
            "\u21b1      \u001b[36mrowstart\u001b[0m = \u001b[35mrowstarts[i_inner + i_outer*128]\u001b[0m  {id=\u001b[32minsn0\u001b[0m}\n",
            "\u2514\u21b1     \u001b[36mrowend\u001b[0m = \u001b[35mrowstarts[1 + i_inner + i_outer*128]\u001b[0m  {id=\u001b[32minsn1\u001b[0m}\n",
            "\u21b1\u2514     \u001b[36mlength\u001b[0m = \u001b[35mrowend + (-1)*rowstart\u001b[0m  {id=\u001b[32minsn2\u001b[0m}\n",
            "\u2514\u21b1     \u001b[36mrowsum\u001b[0m = \u001b[35m0\u001b[0m  {id=\u001b[32minsn3\u001b[0m}\n",
            " \u2502     for j_inner, j_outer\n",
            "\u21b1\u2514         \u001b[36mrowsum\u001b[0m = \u001b[35mrowsum + x[-1 + colindices[-1 + rowstart + j_inner + j_outer*4]]*values[-1 + rowstart + j_inner + j_outer*4]\u001b[0m  {id=\u001b[32minsn4\u001b[0m}\n",
            "\u2502      end j_inner, j_outer\n",
            "\u2514      \u001b[36my[i_inner + i_outer*128]\u001b[0m = \u001b[35mrowsum\u001b[0m  {id=\u001b[32minsn5\u001b[0m}\n",
            "   end i_outer, i_inner\n",
            "---------------------------------------------------------------------------\n"
          ]
        }
      ],
      "source": [
        "sparse_t = lp.split_iname(sparse, \"i\", 128)\n",
        "sparse_t = lp.tag_inames(sparse_t, {\"i_outer\": \"g.0\"})\n",
        "sparse_t = lp.tag_inames(sparse_t, {\"i_inner\": \"l.0\"})\n",
        "sparse_t = lp.split_iname(sparse_t, \"j\", 4)\n",
        "sparse_t = lp.tag_inames(sparse_t, {\"j_inner\": \"unr\"})\n",
        "print(sparse_t)"
      ]
    },
    {
      "cell_type": "markdown",
      "metadata": {},
      "source": [
        "Now generate code:"
      ]
    },
    {
      "cell_type": "code",
      "execution_count": 15,
      "metadata": {},
      "outputs": [
        {
          "name": "stdout",
          "output_type": "stream",
          "text": [
            "#define lid(N) ((int) get_local_id(N))\n",
            "#define gid(N) ((int) get_group_id(N))\n",
            "#if __OPENCL_C_VERSION__ < 120\n",
            "#pragma OPENCL EXTENSION cl_khr_fp64: enable\n",
            "#endif\n",
            "#define LOOPY_CALL_WITH_INTEGER_TYPES(MACRO_NAME) \\\n",
            "    MACRO_NAME(int8, char) \\\n",
            "    MACRO_NAME(int16, short) \\\n",
            "    MACRO_NAME(int32, int) \\\n",
            "    MACRO_NAME(int64, long)\n",
            "#define LOOPY_DEFINE_FLOOR_DIV_POS_B(SUFFIX, TYPE) \\\n",
            "    inline TYPE loopy_floor_div_pos_b_##SUFFIX(TYPE a, TYPE b) \\\n",
            "    { \\\n",
            "        if (a<0) \\\n",
            "            a = a - (b-1); \\\n",
            "        return a/b; \\\n",
            "    }\n",
            "LOOPY_CALL_WITH_INTEGER_TYPES(LOOPY_DEFINE_FLOOR_DIV_POS_B)\n",
            "#undef LOOPY_DEFINE_FLOOR_DIV_POS_B\n",
            "#undef LOOPY_CALL_WITH_INTEGER_TYPES\n",
            "\n",
            "__kernel void __attribute__ ((reqd_work_group_size(128, 1, 1))) sparse(__global int const *__restrict__ rowstarts, __global int const *__restrict__ colindices, __global double const *__restrict__ values, int const m, int const n, int const nvals, __global double const *__restrict__ x, __global double *__restrict__ y)\n",
            "{\n",
            "  int length;\n",
            "  int rowend;\n",
            "  int rowstart;\n",
            "  double rowsum;\n",
            "\n",
            "  if (-1 + -128 * gid(0) + -1 * lid(0) + m >= 0)\n",
            "  {\n",
            "    rowstart = rowstarts[128 * gid(0) + lid(0)];\n",
            "    rowend = rowstarts[1 + 128 * gid(0) + lid(0)];\n",
            "    length = rowend + -1 * rowstart;\n",
            "    rowsum = 0.0;\n",
            "    for (int j_outer = 0; j_outer <= -1 + loopy_floor_div_pos_b_int32(3 + length, 4); ++j_outer)\n",
            "    {\n",
            "      rowsum = rowsum + x[-1 + colindices[-1 + rowstart + j_outer * 4]] * values[-1 + rowstart + j_outer * 4];\n",
            "      if (-2 + -4 * j_outer + length >= 0)\n",
            "        rowsum = rowsum + x[-1 + colindices[-1 + rowstart + 1 + j_outer * 4]] * values[-1 + rowstart + 1 + j_outer * 4];\n",
            "      if (-3 + -4 * j_outer + length >= 0)\n",
            "        rowsum = rowsum + x[-1 + colindices[-1 + rowstart + 2 + j_outer * 4]] * values[-1 + rowstart + 2 + j_outer * 4];\n",
            "      if (-4 + -4 * j_outer + length >= 0)\n",
            "        rowsum = rowsum + x[-1 + colindices[-1 + rowstart + 3 + j_outer * 4]] * values[-1 + rowstart + 3 + j_outer * 4];\n",
            "    }\n",
            "    y[128 * gid(0) + lid(0)] = rowsum;\n",
            "  }\n",
            "}\n"
          ]
        }
      ],
      "source": [
        "print(lp.generate_code_v2(sparse_t).device_code())"
      ]
    },
    {
      "cell_type": "code",
      "execution_count": null,
      "metadata": {},
      "outputs": [],
      "source": []
    }
  ],
  "metadata": {
    "kernelspec": {
      "display_name": "Python 3",
      "language": "python",
      "name": "python3"
    },
    "language_info": {
      "codemirror_mode": {
        "name": "ipython",
        "version": 3
      },
      "file_extension": ".py",
      "mimetype": "text/x-python",
      "name": "python",
      "nbconvert_exporter": "python",
      "pygments_lexer": "ipython3",
      "version": "3.7.6"
    }
  },
  "nbformat": 4,
  "nbformat_minor": 4
}