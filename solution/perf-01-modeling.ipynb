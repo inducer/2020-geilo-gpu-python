{
  "cells": [
    {
      "cell_type": "markdown",
      "metadata": {},
      "source": [
        "# Timing and Measuring Throughput"
      ]
    },
    {
      "cell_type": "code",
      "execution_count": 2,
      "metadata": {},
      "outputs": [],
      "source": [
        "import pyopencl as cl\n",
        "import pyopencl.array\n",
        "import pyopencl.clrandom\n",
        "import numpy as np\n",
        "import numpy.linalg as la\n",
        "from time import time\n",
        "import matplotlib.pyplot as plt"
      ]
    },
    {
      "cell_type": "code",
      "execution_count": 4,
      "metadata": {},
      "outputs": [
        {
          "name": "stdout",
          "output_type": "stream",
          "text": [
            "Choose platform:\n",
            "[0] <pyopencl.Platform 'Portable Computing Language' at 0x7fc19be885c0>\n",
            "[1] <pyopencl.Platform 'Intel(R) OpenCL' at 0x28533a8>\n"
          ]
        },
        {
          "name": "stdin",
          "output_type": "stream",
          "text": [
            "Choice [0]: 1\n"
          ]
        },
        {
          "name": "stdout",
          "output_type": "stream",
          "text": [
            "Set the environment variable PYOPENCL_CTX='1' to avoid being asked again.\n"
          ]
        }
      ],
      "source": [
        "ctx = cl.create_some_context(interactive=True)\n",
        "queue = cl.CommandQueue(ctx)"
      ]
    },
    {
      "cell_type": "code",
      "execution_count": 5,
      "metadata": {},
      "outputs": [
        {
          "name": "stderr",
          "output_type": "stream",
          "text": [
            "/home/andreas/src/pyopencl/pyopencl/__init__.py:250: CompilerWarning: Non-empty compiler output encountered. Set the environment variable PYOPENCL_COMPILER_OUTPUT=1 to see more.\n",
            "  \"to see more.\", CompilerWarning)\n"
          ]
        }
      ],
      "source": [
        "n = 10**8 * 2\n",
        "x = cl.clrandom.rand(queue, n, np.float32)"
      ]
    },
    {
      "cell_type": "code",
      "execution_count": 6,
      "metadata": {},
      "outputs": [
        {
          "name": "stdout",
          "output_type": "stream",
          "text": [
            "4\n",
            "8\n",
            "12\n",
            "16\n",
            "20\n",
            "24\n",
            "28\n",
            "32\n",
            "36\n",
            "40\n",
            "44\n"
          ]
        }
      ],
      "source": [
        "intensities = []\n",
        "timings = []\n",
        "ops = []\n",
        "\n",
        "for nops in range(4, 48, 4):\n",
        "    print(nops)\n",
        "\n",
        "    lines = [\"op_t xi = x[i];\", \"op_t v = xi;\"]\n",
        "    for n in range(nops):\n",
        "        lines.append(\"v = xi*(xi+v);\")\n",
        "        \n",
        "    operations = 2*nops\n",
        "    ops.append(operations)\n",
        "    intensity = operations / x.dtype.itemsize\n",
        "    intensities.append(intensity)\n",
        "    \n",
        "    src = \"\"\"\n",
        "    typedef float op_t;\n",
        "    __kernel void perftest(__global op_t *x, __global op_t *output)\n",
        "    {\n",
        "      int i = get_global_id(0);\n",
        "      %s\n",
        "      output[i] = v;\n",
        "    }\n",
        "    \"\"\" % (\"\\n\".join(lines))\n",
        "    #print(src)\n",
        "    prg = cl.Program(ctx, src).build()\n",
        "    knl = prg.perftest\n",
        "    \n",
        "    output = cl.array.empty_like(x)\n",
        "    for i in range(3):\n",
        "        knl(queue, x.shape, (512,), x.data, output.data)\n",
        "        \n",
        "    nruns = 10\n",
        "    queue.finish()\n",
        "    start_t = time()\n",
        "    for i in range(nruns):\n",
        "        knl(queue, x.shape, (512,), x.data, output.data)\n",
        "    queue.finish()\n",
        "    timings.append((time()-start_t)/nruns)"
      ]
    },
    {
      "cell_type": "code",
      "execution_count": 7,
      "metadata": {},
      "outputs": [
        {
          "data": {
            "text/plain": [
              "[<matplotlib.lines.Line2D at 0x7fc17c145cd0>]"
            ]
          },
          "execution_count": 7,
          "metadata": {},
          "output_type": "execute_result"
        },
        {
          "data": {
            "image/png": "[encoded data removed]",
            "text/plain": [
              "<Figure size 720x432 with 1 Axes>"
            ]
          },
          "metadata": {
            "needs_background": "light"
          },
          "output_type": "display_data"
        }
      ],
      "source": [
        "plt.figure(figsize=(10, 6))\n",
        "plt.xlabel(\"Intensity\")\n",
        "plt.ylabel(\"GFlops/s\")\n",
        "\n",
        "timings = np.array(timings)\n",
        "gflops = np.array(ops)*x.size/1e9/timings\n",
        "\n",
        "plt.plot(intensities, gflops, \"o-\")"
      ]
    }
  ],
  "metadata": {
    "kernelspec": {
      "display_name": "Python 3",
      "language": "python",
      "name": "python3"
    },
    "language_info": {
      "codemirror_mode": {
        "name": "ipython",
        "version": 3
      },
      "file_extension": ".py",
      "mimetype": "text/x-python",
      "name": "python",
      "nbconvert_exporter": "python",
      "pygments_lexer": "ipython3",
      "version": "3.7.5"
    }
  },
  "nbformat": 4,
  "nbformat_minor": 4
}