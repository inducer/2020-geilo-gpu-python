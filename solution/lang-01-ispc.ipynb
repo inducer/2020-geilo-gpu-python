{
  "cells": [
    {
      "cell_type": "markdown",
      "metadata": {},
      "source": [
        "# Intel SPMD Program Compiler (ISPC)"
      ]
    },
    {
      "cell_type": "code",
      "execution_count": 4,
      "metadata": {},
      "outputs": [],
      "source": [
        "!rm -Rf tmp\n",
        "!mkdir -p tmp"
      ]
    },
    {
      "cell_type": "code",
      "execution_count": 13,
      "metadata": {},
      "outputs": [
        {
          "name": "stdout",
          "output_type": "stream",
          "text": [
            "Overwriting tmp/scalar-program-instances.ispc\n"
          ]
        }
      ],
      "source": [
        "%%writefile tmp/scalar-program-instances.ispc\n",
        "\n",
        "varying float add_them(varying float a, varying float b)\n",
        "{\n",
        "    return a + b;\n",
        "}"
      ]
    },
    {
      "cell_type": "code",
      "execution_count": 14,
      "metadata": {},
      "outputs": [
        {
          "name": "stdout",
          "output_type": "stream",
          "text": [
            "\n",
            "tmp/scalar-program-instances.o:     file format elf64-x86-64\n",
            "\n",
            "\n",
            "Disassembly of section .text:\n",
            "\n",
            "0000000000000000 <add_them___vyfvyf>:\n",
            "   0:\tc5 fc 58 c1          \tvaddps %ymm1,%ymm0,%ymm0\n",
            "   4:\tc3                   \tretq   \n"
          ]
        }
      ],
      "source": [
        "!cd tmp; ~/pack/ispc-v1.9.0-linux/ispc  \\\n",
        "    --target=avx2-i32x8 \\\n",
        "    --opt=force-aligned-memory \\\n",
        "    scalar-program-instances.ispc \\\n",
        "    -o scalar-program-instances.o\n",
        "! objdump --disassemble tmp/scalar-program-instances.o"
      ]
    },
    {
      "cell_type": "markdown",
      "metadata": {},
      "source": [
        "- `uniform` and `varying`\n",
        "- `programCount` and `programIndex`\n",
        "- `x16` targets... why?\n",
        "- How do you think shuffles are done?\n"
      ]
    }
  ],
  "metadata": {
    "kernelspec": {
      "display_name": "Python 3",
      "language": "python",
      "name": "python3"
    },
    "language_info": {
      "codemirror_mode": {
        "name": "ipython",
        "version": 3
      },
      "file_extension": ".py",
      "mimetype": "text/x-python",
      "name": "python",
      "nbconvert_exporter": "python",
      "pygments_lexer": "ipython3",
      "version": "3.7.6"
    }
  },
  "nbformat": 4,
  "nbformat_minor": 4
}