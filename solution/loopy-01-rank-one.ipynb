{
  "cells": [
    {
      "cell_type": "markdown",
      "metadata": {},
      "source": [
        "# Hello Loopy: Computing a Rank-One Matrix\n",
        "\n",
        "## Setup Code"
      ]
    },
    {
      "cell_type": "code",
      "execution_count": 16,
      "metadata": {
        "collapsed": true
      },
      "outputs": [],
      "source": [
        "import numpy as np\n",
        "import pyopencl as cl\n",
        "import pyopencl.array\n",
        "import pyopencl.clrandom\n",
        "import loopy as lp"
      ]
    },
    {
      "cell_type": "code",
      "execution_count": 21,
      "metadata": {
        "collapsed": true
      },
      "outputs": [],
      "source": [
        "ctx = cl.create_some_context()\n",
        "queue = cl.CommandQueue(ctx)"
      ]
    },
    {
      "cell_type": "code",
      "execution_count": 22,
      "metadata": {
        "collapsed": true
      },
      "outputs": [],
      "source": [
        "n = 1024\n",
        "a = cl.clrandom.rand(queue, n, dtype=np.float32)\n",
        "b = cl.clrandom.rand(queue, n, dtype=np.float32)"
      ]
    },
    {
      "cell_type": "markdown",
      "metadata": {},
      "source": [
        "## The Initial Kernel"
      ]
    },
    {
      "cell_type": "code",
      "execution_count": 23,
      "metadata": {
        "collapsed": true
      },
      "outputs": [],
      "source": [
        "knl = lp.make_kernel(\n",
        "    \"{[i,j]: 0<=i,j<n}\",\n",
        "    \"c[i, j] = a[i]*b[j]\")"
      ]
    },
    {
      "cell_type": "code",
      "execution_count": 24,
      "metadata": {},
      "outputs": [
        {
          "name": "stdout",
          "output_type": "stream",
          "text": [
            "\u001b[36m#\u001b[39;49;00m\u001b[36mdefine lid(N) ((int) get_local_id(N))\u001b[39;49;00m\u001b[36m\u001b[39;49;00m\n",
            "\u001b[36m#\u001b[39;49;00m\u001b[36mdefine gid(N) ((int) get_group_id(N))\u001b[39;49;00m\u001b[36m\u001b[39;49;00m\n",
            "\n",
            "__kernel \u001b[36mvoid\u001b[39;49;00m \u001b[32m__attribute__\u001b[39;49;00m ((reqd_work_group_size(\u001b[34m1\u001b[39;49;00m, \u001b[34m1\u001b[39;49;00m, \u001b[34m1\u001b[39;49;00m))) loopy_kernel(__global \u001b[36mfloat\u001b[39;49;00m \u001b[34mconst\u001b[39;49;00m *__restrict__ a, __global \u001b[36mfloat\u001b[39;49;00m \u001b[34mconst\u001b[39;49;00m *__restrict__ b, __global \u001b[36mfloat\u001b[39;49;00m *__restrict__ c, \u001b[36mint\u001b[39;49;00m \u001b[34mconst\u001b[39;49;00m n)\n",
            "{\n",
            "  \u001b[34mfor\u001b[39;49;00m (\u001b[36mint\u001b[39;49;00m j = \u001b[34m0\u001b[39;49;00m; j <= -\u001b[34m1\u001b[39;49;00m + n; ++j)\n",
            "    \u001b[34mfor\u001b[39;49;00m (\u001b[36mint\u001b[39;49;00m i = \u001b[34m0\u001b[39;49;00m; i <= -\u001b[34m1\u001b[39;49;00m + n; ++i)\n",
            "      c[n * i + j] = a[i] * b[j];\n",
            "}\n",
            "\n"
          ]
        }
      ],
      "source": [
        "knl = lp.set_options(knl, write_cl=True)\n",
        "evt, (mat,) = knl(queue, a=a, b=b)"
      ]
    },
    {
      "cell_type": "markdown",
      "metadata": {},
      "source": [
        "## Transforming kernels: Implementation Tags\n",
        "\n",
        "Every loop axis (\"iname\") comes with an *implementation tag*."
      ]
    },
    {
      "cell_type": "code",
      "execution_count": 29,
      "metadata": {},
      "outputs": [
        {
          "name": "stdout",
          "output_type": "stream",
          "text": [
            "\u001b[36m#\u001b[39;49;00m\u001b[36mdefine lid(N) ((int) get_local_id(N))\u001b[39;49;00m\u001b[36m\u001b[39;49;00m\n",
            "\u001b[36m#\u001b[39;49;00m\u001b[36mdefine gid(N) ((int) get_group_id(N))\u001b[39;49;00m\u001b[36m\u001b[39;49;00m\n",
            "\u001b[36m#\u001b[39;49;00m\u001b[36mdefine int_floor_div_pos_b(a,b) (                 ( (a) - ( ((a)<0) ? ((b)-1) : 0 )  ) \u001b[39;49;00m\u001b[36m/\u001b[39;49;00m\u001b[36m (b)                 )\u001b[39;49;00m\u001b[36m\u001b[39;49;00m\n",
            "\n",
            "__kernel \u001b[36mvoid\u001b[39;49;00m \u001b[32m__attribute__\u001b[39;49;00m ((reqd_work_group_size(\u001b[34m1\u001b[39;49;00m, \u001b[34m1\u001b[39;49;00m, \u001b[34m1\u001b[39;49;00m))) loopy_kernel(__global \u001b[36mfloat\u001b[39;49;00m \u001b[34mconst\u001b[39;49;00m *__restrict__ a, __global \u001b[36mfloat\u001b[39;49;00m \u001b[34mconst\u001b[39;49;00m *__restrict__ b, __global \u001b[36mfloat\u001b[39;49;00m *__restrict__ c, \u001b[36mint\u001b[39;49;00m \u001b[34mconst\u001b[39;49;00m n)\n",
            "{\n",
            "  \u001b[34mfor\u001b[39;49;00m (\u001b[36mint\u001b[39;49;00m j = \u001b[34m0\u001b[39;49;00m; j <= -\u001b[34m1\u001b[39;49;00m + n; ++j)\n",
            "    \u001b[34mfor\u001b[39;49;00m (\u001b[36mint\u001b[39;49;00m i_outer = \u001b[34m0\u001b[39;49;00m; i_outer <= -\u001b[34m1\u001b[39;49;00m + int_floor_div_pos_b(\u001b[34m3\u001b[39;49;00m + n, \u001b[34m4\u001b[39;49;00m); ++i_outer)\n",
            "      \u001b[34mfor\u001b[39;49;00m (\u001b[36mint\u001b[39;49;00m i_inner = \u001b[34m0\u001b[39;49;00m; i_inner <= (-\u001b[34m4\u001b[39;49;00m + n + -\u001b[34m4\u001b[39;49;00m * i_outer >= \u001b[34m0\u001b[39;49;00m ? \u001b[34m3\u001b[39;49;00m : -\u001b[34m1\u001b[39;49;00m + n + -\u001b[34m4\u001b[39;49;00m * i_outer); ++i_inner)\n",
            "        c[n * (\u001b[34m4\u001b[39;49;00m * i_outer + i_inner) + j] = a[\u001b[34m4\u001b[39;49;00m * i_outer + i_inner] * b[j];\n",
            "}\n",
            "\n"
          ]
        }
      ],
      "source": [
        "isplit_knl = knl\n",
        "#isplit_knl = lp.assume(isplit_knl, \"n mod 4 = 0\")\n",
        "isplit_knl = lp.split_iname(isplit_knl, \"i\", 4)\n",
        "#isplit_knl = lp.tag_inames(isplit_knl, {\"i_inner\": \"unr\"})\n",
        "\n",
        "evt, (mat,) = isplit_knl(queue, a=a, b=b)"
      ]
    },
    {
      "cell_type": "markdown",
      "metadata": {},
      "source": [
        "----\n",
        "\"Map to GPU hw axis\" is an iname tag as well.\n",
        "\n",
        "Use shortcuts for less typing:"
      ]
    },
    {
      "cell_type": "code",
      "execution_count": 8,
      "metadata": {},
      "outputs": [
        {
          "name": "stdout",
          "output_type": "stream",
          "text": [
            "\u001b[36m#\u001b[39;49;00m\u001b[36mdefine lid(N) ((int) get_local_id(N))\u001b[39;49;00m\u001b[36m\u001b[39;49;00m\n",
            "\u001b[36m#\u001b[39;49;00m\u001b[36mdefine gid(N) ((int) get_group_id(N))\u001b[39;49;00m\u001b[36m\u001b[39;49;00m\n",
            "\n",
            "__kernel \u001b[36mvoid\u001b[39;49;00m \u001b[32m__attribute__\u001b[39;49;00m ((reqd_work_group_size(\u001b[34m16\u001b[39;49;00m, \u001b[34m16\u001b[39;49;00m, \u001b[34m1\u001b[39;49;00m))) loopy_kernel(__global \u001b[36mfloat\u001b[39;49;00m \u001b[34mconst\u001b[39;49;00m *__restrict__ a, __global \u001b[36mfloat\u001b[39;49;00m \u001b[34mconst\u001b[39;49;00m *__restrict__ b, __global \u001b[36mfloat\u001b[39;49;00m *__restrict__ c, \u001b[36mint\u001b[39;49;00m \u001b[34mconst\u001b[39;49;00m n)\n",
            "{\n",
            "  \u001b[34mif\u001b[39;49;00m (-\u001b[34m1\u001b[39;49;00m + -\u001b[34m16\u001b[39;49;00m * gid(\u001b[34m1\u001b[39;49;00m) + -\u001b[34m1\u001b[39;49;00m * lid(\u001b[34m1\u001b[39;49;00m) + n >= \u001b[34m0\u001b[39;49;00m && -\u001b[34m1\u001b[39;49;00m + -\u001b[34m16\u001b[39;49;00m * gid(\u001b[34m0\u001b[39;49;00m) + -\u001b[34m1\u001b[39;49;00m * lid(\u001b[34m0\u001b[39;49;00m) + n >= \u001b[34m0\u001b[39;49;00m)\n",
            "    c[n * (\u001b[34m16\u001b[39;49;00m * gid(\u001b[34m0\u001b[39;49;00m) + lid(\u001b[34m0\u001b[39;49;00m)) + \u001b[34m16\u001b[39;49;00m * gid(\u001b[34m1\u001b[39;49;00m) + lid(\u001b[34m1\u001b[39;49;00m)] = a[\u001b[34m16\u001b[39;49;00m * gid(\u001b[34m0\u001b[39;49;00m) + lid(\u001b[34m0\u001b[39;49;00m)] * b[\u001b[34m16\u001b[39;49;00m * gid(\u001b[34m1\u001b[39;49;00m) + lid(\u001b[34m1\u001b[39;49;00m)];\n",
            "}\n",
            "\n"
          ]
        }
      ],
      "source": [
        "split_knl = knl\n",
        "split_knl = lp.split_iname(split_knl, \"i\", 16,\n",
        "        outer_tag=\"g.0\", inner_tag=\"l.0\")\n",
        "split_knl = lp.split_iname(split_knl, \"j\", 16,\n",
        "        outer_tag=\"g.1\", inner_tag=\"l.1\")\n",
        "\n",
        "evt, (mat,) = split_knl(queue, a=a, b=b)"
      ]
    },
    {
      "cell_type": "markdown",
      "metadata": {},
      "source": [
        "## Targeting CPUs/KNL\n",
        "\n",
        "[ISPC](https://ispc.github.io/)'s \"low-level\" interface provides access to SSE, AVX2, AVX512 (including Knight's hardware) from a scalar CUDA program model:"
      ]
    },
    {
      "cell_type": "code",
      "execution_count": 19,
      "metadata": {},
      "outputs": [
        {
          "name": "stdout",
          "output_type": "stream",
          "text": [
            "#define int_floor_div_pos_b(a,b) (                 ( (a) - ( ((a)<0) ? ((b)-1) : 0 )  ) / (b)                 )\n",
            "\n",
            "task void loopy_kernel_inner(uniform float const *uniform a, uniform float const *uniform b, uniform float *uniform c, uniform int32 const n)\n",
            "{\n",
            "  if (-1 + -16 * ((uniform int32) taskIndex0) + -1 * (varying int32) programIndex + n >= 0)\n",
            "    for (uniform int32 i = 0; i <= -1 + n; ++i)\n",
            "      c[n * i + 16 * ((uniform int32) taskIndex0) + (varying int32) programIndex] = a[i] * b[16 * ((uniform int32) taskIndex0) + (varying int32) programIndex];\n",
            "}\n",
            "\n",
            "export void loopy_kernel(uniform float const *uniform a, uniform float const *uniform b, uniform float *uniform c, uniform int32 const n)\n",
            "{\n",
            "  assert(programCount == (16));\n",
            "  launch[int_floor_div_pos_b(15 + n, 16)] loopy_kernel_inner(a, b, c, n);\n",
            "\n",
            "}\n"
          ]
        }
      ],
      "source": [
        "ispc_knl = knl\n",
        "\n",
        "ispc_knl = ispc_knl.copy(target=lp.ISPCTarget())\n",
        "\n",
        "ispc_knl = lp.split_iname(ispc_knl, \"j\", 16,\n",
        "        outer_tag=\"g.0\", inner_tag=\"l.0\")\n",
        "ispc_knl = lp.add_and_infer_dtypes(ispc_knl, dict(a=np.float32, b=np.float32))\n",
        "\n",
        "print(lp.generate_code_v2(ispc_knl).all_code())"
      ]
    },
    {
      "cell_type": "markdown",
      "metadata": {},
      "source": [
        "## Transforming kernels: Leveraging data reuse\n",
        "\n",
        "Would like to fetch entire \"access footprint\" of a loop."
      ]
    },
    {
      "cell_type": "code",
      "execution_count": 22,
      "metadata": {},
      "outputs": [
        {
          "name": "stdout",
          "output_type": "stream",
          "text": [
            "\u001b[36m#\u001b[39;49;00m\u001b[36mdefine lid(N) ((int) get_local_id(N))\u001b[39;49;00m\u001b[36m\u001b[39;49;00m\n",
            "\u001b[36m#\u001b[39;49;00m\u001b[36mdefine gid(N) ((int) get_group_id(N))\u001b[39;49;00m\u001b[36m\u001b[39;49;00m\n",
            "\n",
            "__kernel \u001b[36mvoid\u001b[39;49;00m \u001b[32m__attribute__\u001b[39;49;00m ((reqd_work_group_size(\u001b[34m16\u001b[39;49;00m, \u001b[34m16\u001b[39;49;00m, \u001b[34m1\u001b[39;49;00m))) loopy_kernel(__global \u001b[36mfloat\u001b[39;49;00m \u001b[34mconst\u001b[39;49;00m *__restrict__ a, __global \u001b[36mfloat\u001b[39;49;00m \u001b[34mconst\u001b[39;49;00m *__restrict__ b, __global \u001b[36mfloat\u001b[39;49;00m *__restrict__ c, \u001b[36mint\u001b[39;49;00m \u001b[34mconst\u001b[39;49;00m n)\n",
            "{\n",
            "  __local \u001b[36mfloat\u001b[39;49;00m a_fetch[\u001b[34m16\u001b[39;49;00m];\n",
            "  __local \u001b[36mfloat\u001b[39;49;00m b_fetch[\u001b[34m16\u001b[39;49;00m];\n",
            "\n",
            "  \u001b[34mif\u001b[39;49;00m (-\u001b[34m1\u001b[39;49;00m + -\u001b[34m16\u001b[39;49;00m * gid(\u001b[34m1\u001b[39;49;00m) + -\u001b[34m1\u001b[39;49;00m * lid(\u001b[34m0\u001b[39;49;00m) + n >= \u001b[34m0\u001b[39;49;00m)\n",
            "    b_fetch[lid(\u001b[34m0\u001b[39;49;00m)] = b[\u001b[34m16\u001b[39;49;00m * gid(\u001b[34m1\u001b[39;49;00m) + lid(\u001b[34m0\u001b[39;49;00m)];\n",
            "  \u001b[34mif\u001b[39;49;00m (-\u001b[34m1\u001b[39;49;00m + -\u001b[34m16\u001b[39;49;00m * gid(\u001b[34m0\u001b[39;49;00m) + -\u001b[34m1\u001b[39;49;00m * lid(\u001b[34m0\u001b[39;49;00m) + n >= \u001b[34m0\u001b[39;49;00m)\n",
            "    a_fetch[lid(\u001b[34m0\u001b[39;49;00m)] = a[\u001b[34m16\u001b[39;49;00m * gid(\u001b[34m0\u001b[39;49;00m) + lid(\u001b[34m0\u001b[39;49;00m)];\n",
            "  barrier(CLK_LOCAL_MEM_FENCE) \u001b[37m/* for a_fetch (insn depends on a_fetch_rule) */\u001b[39;49;00m;\n",
            "  \u001b[34mif\u001b[39;49;00m (-\u001b[34m1\u001b[39;49;00m + -\u001b[34m16\u001b[39;49;00m * gid(\u001b[34m1\u001b[39;49;00m) + -\u001b[34m1\u001b[39;49;00m * lid(\u001b[34m1\u001b[39;49;00m) + n >= \u001b[34m0\u001b[39;49;00m && -\u001b[34m1\u001b[39;49;00m + -\u001b[34m16\u001b[39;49;00m * gid(\u001b[34m0\u001b[39;49;00m) + -\u001b[34m1\u001b[39;49;00m * lid(\u001b[34m0\u001b[39;49;00m) + n >= \u001b[34m0\u001b[39;49;00m)\n",
            "    c[n * (\u001b[34m16\u001b[39;49;00m * gid(\u001b[34m0\u001b[39;49;00m) + lid(\u001b[34m0\u001b[39;49;00m)) + \u001b[34m16\u001b[39;49;00m * gid(\u001b[34m1\u001b[39;49;00m) + lid(\u001b[34m1\u001b[39;49;00m)] = a_fetch[lid(\u001b[34m0\u001b[39;49;00m)] * b_fetch[lid(\u001b[34m1\u001b[39;49;00m)];\n",
            "}\n",
            "\n"
          ]
        }
      ],
      "source": [
        "fetch_knl = split_knl\n",
        "\n",
        "fetch_knl = lp.add_prefetch(fetch_knl, \"a\", [\"i_inner\"])\n",
        "fetch_knl = lp.add_prefetch(fetch_knl, \"b\", [\"j_inner\"])\n",
        "\n",
        "evt, (mat,) = fetch_knl(queue, a=a, b=b)"
      ]
    }
  ],
  "metadata": {
    "kernelspec": {
      "display_name": "Python 3",
      "language": "python",
      "name": "python3"
    },
    "language_info": {
      "codemirror_mode": {
        "name": "ipython",
        "version": 3
      },
      "file_extension": ".py",
      "mimetype": "text/x-python",
      "name": "python",
      "nbconvert_exporter": "python",
      "pygments_lexer": "ipython3",
      "version": "3.6.2"
    },
    "widgets": {
      "state": {},
      "version": "1.1.2"
    }
  },
  "nbformat": 4,
  "nbformat_minor": 1
}