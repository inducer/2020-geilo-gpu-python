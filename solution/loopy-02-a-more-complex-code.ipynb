{
  "cells": [
    {
      "cell_type": "markdown",
      "metadata": {},
      "source": [
        "# Something Larger than a One-Liner"
      ]
    },
    {
      "cell_type": "markdown",
      "metadata": {},
      "source": [
        "## Initialization"
      ]
    },
    {
      "cell_type": "code",
      "execution_count": 1,
      "metadata": {
        "collapsed": true
      },
      "outputs": [],
      "source": [
        "import numpy as np\n",
        "import loopy as lp\n",
        "import pyopencl as cl\n",
        "\n",
        "lp.set_caching_enabled(False)"
      ]
    },
    {
      "cell_type": "code",
      "execution_count": 2,
      "metadata": {},
      "outputs": [
        {
          "name": "stdout",
          "output_type": "stream",
          "text": [
            "Choose platform:\n",
            "[0] <pyopencl.Platform 'Intel Gen OCL Driver' at 0x7fc419151840>\n",
            "[1] <pyopencl.Platform 'Portable Computing Language' at 0x7fc4215f1010>\n",
            "[2] <pyopencl.Platform 'Intel(R) OpenCL' at 0x393dc20>\n",
            "Choice [0]:1\n",
            "Set the environment variable PYOPENCL_CTX='1' to avoid being asked again.\n"
          ]
        }
      ],
      "source": [
        "cl_ctx = cl.create_some_context(interactive=True)"
      ]
    },
    {
      "cell_type": "markdown",
      "metadata": {},
      "source": [
        "## Finding \"centers\" near \"targets\""
      ]
    },
    {
      "cell_type": "code",
      "execution_count": 3,
      "metadata": {
        "collapsed": true
      },
      "outputs": [],
      "source": [
        "knl = lp.make_kernel(\n",
        "        \"{[ictr,itgt,idim]: \"\n",
        "        \"0<=itgt<ntargets \"\n",
        "        \"and 0<=ictr<ncenters \"\n",
        "        \"and 0<=idim<ambient_dim}\",\n",
        "\n",
        "        \"\"\"\n",
        "        for itgt\n",
        "            for ictr\n",
        "                <> dist_sq = sum(idim,\n",
        "                        (tgt[idim,itgt] - center[idim,ictr])**2)\n",
        "                <> in_disk = dist_sq < (radius[ictr]*1.05)**2\n",
        "                <> matches = (\n",
        "                        (in_disk\n",
        "                            and qbx_forced_limit == 0)\n",
        "                        or (in_disk\n",
        "                                and qbx_forced_limit != 0\n",
        "                                and qbx_forced_limit * center_side[ictr] > 0)\n",
        "                        )\n",
        "\n",
        "                <> post_dist_sq = if(matches, dist_sq, HUGE)\n",
        "            end\n",
        "            <> min_dist_sq, <> min_ictr = argmin(ictr, ictr, post_dist_sq)\n",
        "\n",
        "            tgt_to_qbx_center[itgt] = if(min_dist_sq < HUGE, min_ictr, -1)\n",
        "        end\n",
        "        \"\"\")"
      ]
    },
    {
      "cell_type": "code",
      "execution_count": 4,
      "metadata": {},
      "outputs": [
        {
          "name": "stdout",
          "output_type": "stream",
          "text": [
            "---------------------------------------------------------------------------\n",
            "KERNEL: loopy_kernel\n",
            "---------------------------------------------------------------------------\n",
            "ARGUMENTS:\n",
            "HUGE: ValueArg, type: <runtime>\n",
            "ambient_dim: ValueArg, type: <runtime>\n",
            "center: GlobalArg, type: <runtime>, shape: (ambient_dim, ncenters), dim_tags: (N1:stride:ncenters, N0:stride:1)\n",
            "center_side: GlobalArg, type: <runtime>, shape: (ncenters), dim_tags: (N0:stride:1)\n",
            "ncenters: ValueArg, type: <runtime>\n",
            "ntargets: ValueArg, type: <runtime>\n",
            "qbx_forced_limit: ValueArg, type: <runtime>\n",
            "radius: GlobalArg, type: <runtime>, shape: (ncenters), dim_tags: (N0:stride:1)\n",
            "tgt: GlobalArg, type: <runtime>, shape: (ambient_dim, ntargets), dim_tags: (N1:stride:ntargets, N0:stride:1)\n",
            "tgt_to_qbx_center: GlobalArg, type: <runtime>, shape: (ntargets), dim_tags: (N0:stride:1)\n",
            "---------------------------------------------------------------------------\n",
            "DOMAINS:\n",
            "[ambient_dim, ncenters, ntargets] -> { [ictr, itgt, idim] : 0 <= ictr < ncenters and 0 <= itgt < ntargets and 0 <= idim < ambient_dim }\n",
            "---------------------------------------------------------------------------\n",
            "INAME IMPLEMENTATION TAGS:\n",
            "ictr: None\n",
            "idim: None\n",
            "itgt: None\n",
            "---------------------------------------------------------------------------\n",
            "TEMPORARIES:\n",
            "dist_sq: type: <auto>, shape: () scope:auto\n",
            "in_disk: type: <auto>, shape: () scope:auto\n",
            "matches: type: <auto>, shape: () scope:auto\n",
            "min_dist_sq: type: <auto>, shape: () scope:auto\n",
            "min_ictr: type: <auto>, shape: () scope:auto\n",
            "post_dist_sq: type: <auto>, shape: () scope:auto\n",
            "---------------------------------------------------------------------------\n",
            "INSTRUCTIONS:\n",
            "    for itgt, ictr\n",
            "\u21b1\u21b1      \u001b[36mdist_sq\u001b[0m = \u001b[35mreduce(sum, [idim], (tgt[idim, itgt] + (-1)*center[idim, ictr])**2)\u001b[0m  {id=\u001b[32minsn\u001b[0m}\n",
            "\u2514\u2502\u21b1     \u001b[36min_disk\u001b[0m = \u001b[35mdist_sq < (radius[ictr]*1.05)**2\u001b[0m  {id=\u001b[32minsn_0\u001b[0m}\n",
            "\u21b1\u2502\u2514     \u001b[36mmatches\u001b[0m = \u001b[35min_disk and qbx_forced_limit == 0 or in_disk and qbx_forced_limit != 0 and qbx_forced_limit*center_side[ictr] > 0\u001b[0m  {id=\u001b[32minsn_1\u001b[0m}\n",
            "\u2514\u2514\u21b1     \u001b[36mpost_dist_sq\u001b[0m = \u001b[35mIf(matches, dist_sq, HUGE)\u001b[0m  {id=\u001b[32minsn_2\u001b[0m}\n",
            "  \u2502   end ictr\n",
            "\u21b1 \u2514   \u001b[36mmin_dist_sq, min_ictr\u001b[0m = \u001b[35mreduce(min, [ictr], (ictr, post_dist_sq))\u001b[0m  {id=\u001b[32minsn_3\u001b[0m}\n",
            "\u2514     \u001b[36mtgt_to_qbx_center[itgt]\u001b[0m = \u001b[35mIf(min_dist_sq < HUGE, min_ictr, -1)\u001b[0m  {id=\u001b[32minsn_4\u001b[0m}\n",
            "    end itgt\n",
            "---------------------------------------------------------------------------\n"
          ]
        }
      ],
      "source": [
        "print(knl)"
      ]
    },
    {
      "cell_type": "code",
      "execution_count": 5,
      "metadata": {
        "collapsed": true
      },
      "outputs": [],
      "source": [
        "knl = lp.fix_parameters(knl, ambient_dim=2)\n",
        "knl = lp.add_and_infer_dtypes(knl, {\n",
        "        \"tgt,center,radius,HUGE\": np.float32, \n",
        "        \"center_side,qbx_forced_limit\": np.int32,\n",
        "        })"
      ]
    },
    {
      "cell_type": "code",
      "execution_count": 6,
      "metadata": {},
      "outputs": [
        {
          "name": "stdout",
          "output_type": "stream",
          "text": [
            "---------------------------------------------------------------------------\n",
            "Kernel #0:\n",
            "---------------------------------------------------------------------------\n",
            "\u001b[36m#\u001b[39;49;00m\u001b[36mdefine lid(N) ((int) get_local_id(N))\u001b[39;49;00m\u001b[36m\u001b[39;49;00m\n",
            "\u001b[36m#\u001b[39;49;00m\u001b[36mdefine gid(N) ((int) get_group_id(N))\u001b[39;49;00m\u001b[36m\u001b[39;49;00m\n",
            "\u001b[34minline\u001b[39;49;00m \u001b[36mint\u001b[39;49;00m \u001b[32mloopy_argmin_int32_float32_op\u001b[39;49;00m(\n",
            "    \u001b[36mint\u001b[39;49;00m op1, \u001b[36mfloat\u001b[39;49;00m index1,\n",
            "    \u001b[36mint\u001b[39;49;00m op2, \u001b[36mfloat\u001b[39;49;00m index2,\n",
            "    \u001b[36mfloat\u001b[39;49;00m *index_out)\n",
            "{\n",
            "    \u001b[34mif\u001b[39;49;00m (op2 <= op1)\n",
            "    {\n",
            "        *index_out = index2;\n",
            "        \u001b[34mreturn\u001b[39;49;00m op2;\n",
            "    }\n",
            "    \u001b[34melse\u001b[39;49;00m\n",
            "    {\n",
            "        *index_out = index1;\n",
            "        \u001b[34mreturn\u001b[39;49;00m op1;\n",
            "    }\n",
            "}\n",
            "\n",
            "__kernel \u001b[36mvoid\u001b[39;49;00m \u001b[32m__attribute__\u001b[39;49;00m ((reqd_work_group_size(\u001b[34m1\u001b[39;49;00m, \u001b[34m1\u001b[39;49;00m, \u001b[34m1\u001b[39;49;00m))) loopy_kernel(\u001b[36mfloat\u001b[39;49;00m \u001b[34mconst\u001b[39;49;00m HUGE, __global \u001b[36mfloat\u001b[39;49;00m \u001b[34mconst\u001b[39;49;00m *__restrict__ center, __global \u001b[36mint\u001b[39;49;00m \u001b[34mconst\u001b[39;49;00m *__restrict__ center_side, \u001b[36mint\u001b[39;49;00m \u001b[34mconst\u001b[39;49;00m ncenters, \u001b[36mint\u001b[39;49;00m \u001b[34mconst\u001b[39;49;00m ntargets, \u001b[36mint\u001b[39;49;00m \u001b[34mconst\u001b[39;49;00m qbx_forced_limit, __global \u001b[36mfloat\u001b[39;49;00m \u001b[34mconst\u001b[39;49;00m *__restrict__ radius, __global \u001b[36mfloat\u001b[39;49;00m \u001b[34mconst\u001b[39;49;00m *__restrict__ tgt, __global \u001b[36mfloat\u001b[39;49;00m *__restrict__ tgt_to_qbx_center)\n",
            "{\n",
            "  \u001b[36mint\u001b[39;49;00m acc_ictr;\n",
            "  \u001b[36mfloat\u001b[39;49;00m acc_ictr_0;\n",
            "  \u001b[36mfloat\u001b[39;49;00m acc_idim;\n",
            "  \u001b[36mfloat\u001b[39;49;00m dist_sq;\n",
            "  \u001b[36mint\u001b[39;49;00m in_disk;\n",
            "  \u001b[36mint\u001b[39;49;00m matches;\n",
            "  \u001b[36mint\u001b[39;49;00m min_dist_sq;\n",
            "  \u001b[36mfloat\u001b[39;49;00m min_ictr;\n",
            "  \u001b[36mfloat\u001b[39;49;00m post_dist_sq;\n",
            "\n",
            "  \u001b[34mfor\u001b[39;49;00m (\u001b[36mint\u001b[39;49;00m itgt = \u001b[34m0\u001b[39;49;00m; itgt <= -\u001b[34m1\u001b[39;49;00m + ntargets; ++itgt)\n",
            "    \u001b[34mif\u001b[39;49;00m (-\u001b[34m1\u001b[39;49;00m + ncenters >= \u001b[34m0\u001b[39;49;00m)\n",
            "    {\n",
            "      acc_ictr = INT_MAX;\n",
            "      acc_ictr_0 = -\u001b[34m1.0f\u001b[39;49;00m;\n",
            "      \u001b[34mfor\u001b[39;49;00m (\u001b[36mint\u001b[39;49;00m ictr = \u001b[34m0\u001b[39;49;00m; ictr <= -\u001b[34m1\u001b[39;49;00m + ncenters; ++ictr)\n",
            "      {\n",
            "        acc_idim = \u001b[34m0.0f\u001b[39;49;00m;\n",
            "        \u001b[34mfor\u001b[39;49;00m (\u001b[36mint\u001b[39;49;00m idim = \u001b[34m0\u001b[39;49;00m; idim <= \u001b[34m1\u001b[39;49;00m; ++idim)\n",
            "          acc_idim = acc_idim + (tgt[ntargets * idim + itgt] + -\u001b[34m1.0f\u001b[39;49;00m * center[ncenters * idim + ictr]) * (tgt[ntargets * idim + itgt] + -\u001b[34m1.0f\u001b[39;49;00m * center[ncenters * idim + ictr]);\n",
            "        dist_sq = acc_idim;\n",
            "        in_disk = dist_sq < radius[ictr] * \u001b[34m1.05f\u001b[39;49;00m * radius[ictr] * \u001b[34m1.05f\u001b[39;49;00m;\n",
            "        matches = (in_disk && qbx_forced_limit == \u001b[34m0\u001b[39;49;00m) || (in_disk && qbx_forced_limit != \u001b[34m0\u001b[39;49;00m && qbx_forced_limit * center_side[ictr] > \u001b[34m0\u001b[39;49;00m);\n",
            "        post_dist_sq = (matches ? dist_sq : HUGE);\n",
            "        acc_ictr = loopy_argmin_int32_float32_op(acc_ictr, acc_ictr_0, ictr, post_dist_sq, &(acc_ictr_0));\n",
            "      }\n",
            "      min_ictr = acc_ictr_0;\n",
            "      min_dist_sq = acc_ictr;\n",
            "      tgt_to_qbx_center[itgt] = (min_dist_sq < HUGE ? min_ictr : -\u001b[34m1.0f\u001b[39;49;00m);\n",
            "    }\n",
            "}\n",
            "\n",
            "---------------------------------------------------------------------------\n",
            "elapsed: 0.00102165 s event, 0.000779593 s marker-event 0.000779899 s wall (512 rounds)\n",
            "ref: elapsed: 0.000474867 s event, 0.202632 s wall\n"
          ]
        },
        {
          "data": {
            "text/plain": [
              "{'elapsed_event': 0.0010216545898629192,\n",
              " 'elapsed_event_marker': 0.0007795927207325803,\n",
              " 'elapsed_wall': 0.0007798988372087479,\n",
              " 'ref_elapsed_event': 0.000474867,\n",
              " 'ref_elapsed_wall': 0.20263218879699707,\n",
              " 'timing_rounds': 512}"
            ]
          },
          "execution_count": 6,
          "metadata": {},
          "output_type": "execute_result"
        }
      ],
      "source": [
        "lp.auto_test_vs_ref(knl, cl_ctx, knl, parameters={\n",
        "        \"HUGE\": 1e20, \"ncenters\": 200, \"ntargets\": 300,\n",
        "        \"qbx_forced_limit\": 1})"
      ]
    },
    {
      "cell_type": "code",
      "execution_count": null,
      "metadata": {
        "collapsed": true
      },
      "outputs": [],
      "source": []
    }
  ],
  "metadata": {
    "kernelspec": {
      "display_name": "Python 3",
      "language": "python",
      "name": "python3"
    },
    "language_info": {
      "codemirror_mode": {
        "name": "ipython",
        "version": 3
      },
      "file_extension": ".py",
      "mimetype": "text/x-python",
      "name": "python",
      "nbconvert_exporter": "python",
      "pygments_lexer": "ipython3",
      "version": "3.6.2"
    },
    "widgets": {
      "state": {},
      "version": "1.1.2"
    }
  },
  "nbformat": 4,
  "nbformat_minor": 1
}