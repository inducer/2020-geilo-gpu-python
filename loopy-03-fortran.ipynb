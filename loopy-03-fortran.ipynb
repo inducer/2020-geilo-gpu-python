{
  "cells": [
    {
      "cell_type": "markdown",
      "metadata": {},
      "source": [
        "# (Toy) Fortran Frontend for Loopy"
      ]
    },
    {
      "cell_type": "code",
      "execution_count": 10,
      "metadata": {},
      "outputs": [],
      "source": [
        "import loopy as lp"
      ]
    },
    {
      "cell_type": "code",
      "execution_count": 3,
      "metadata": {},
      "outputs": [],
      "source": [
        "src = \"\"\"subroutine sparse(rowstarts, colindices, values, m, n, nvals, x, y)\n",
        "  implicit none\n",
        "\n",
        "  integer rowstarts(m+1), colindices(nvals)\n",
        "  real*8 values(nvals)\n",
        "  real*8 x(n), y(n), rowsum\n",
        "\n",
        "  integer m, n, rowstart, rowend, length, nvals\n",
        "  integer i, j\n",
        "\n",
        "  do i = 1, m\n",
        "    rowstart = rowstarts(i)\n",
        "    rowend = rowstarts(i+1)\n",
        "    length = rowend - rowstart\n",
        "\n",
        "    rowsum = 0\n",
        "    do j = 1, length\n",
        "      rowsum = rowsum + &\n",
        "        x(colindices(rowstart+j-1))*values(rowstart+j-1)\n",
        "    end do\n",
        "    y(i) = rowsum\n",
        "  end do\n",
        "end\n",
        "\"\"\""
      ]
    },
    {
      "cell_type": "markdown",
      "metadata": {},
      "source": [
        "`lp.parse_fortran(src, filename)`"
      ]
    },
    {
      "cell_type": "code",
      "execution_count": 13,
      "metadata": {},
      "outputs": [],
      "source": []
    },
    {
      "cell_type": "code",
      "execution_count": 14,
      "metadata": {},
      "outputs": [],
      "source": [
        "sparse_t = lp.split_iname(sparse, \"i\", 128)\n",
        "sparse_t = lp.tag_inames(sparse_t, {\"i_outer\": \"g.0\"})\n",
        "sparse_t = lp.tag_inames(sparse_t, {\"i_inner\": \"l.0\"})\n",
        "sparse_t = lp.split_iname(sparse_t, \"j\", 4)\n",
        "sparse_t = lp.tag_inames(sparse_t, {\"j_inner\": \"unr\"})\n",
        "print(sparse_t)"
      ]
    },
    {
      "cell_type": "markdown",
      "metadata": {},
      "source": [
        "Now generate code:"
      ]
    },
    {
      "cell_type": "code",
      "execution_count": 15,
      "metadata": {},
      "outputs": [],
      "source": [
        "print(lp.generate_code_v2(sparse_t).device_code())"
      ]
    },
    {
      "cell_type": "code",
      "execution_count": null,
      "metadata": {},
      "outputs": [],
      "source": []
    }
  ],
  "metadata": {
    "kernelspec": {
      "display_name": "Python 3",
      "language": "python",
      "name": "python3"
    },
    "language_info": {
      "codemirror_mode": {
        "name": "ipython",
        "version": 3
      },
      "file_extension": ".py",
      "mimetype": "text/x-python",
      "name": "python",
      "nbconvert_exporter": "python",
      "pygments_lexer": "ipython3",
      "version": "3.7.6"
    }
  },
  "nbformat": 4,
  "nbformat_minor": 4
}