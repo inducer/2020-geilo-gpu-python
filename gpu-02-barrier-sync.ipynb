{
  "cells": [
    {
      "cell_type": "markdown",
      "metadata": {},
      "source": [
        "# (Shared/Local) Memory and Barriers in Reductions\n",
        "\n",
        "**NB:** Equivalent names:\n",
        "\n",
        "* CUDA: Shared Memory\n",
        "* OpenCL: Local Memory\n",
        "* Computer Architecture: Scratchpad"
      ]
    },
    {
      "cell_type": "code",
      "execution_count": 2,
      "metadata": {},
      "outputs": [],
      "source": [
        "import pyopencl as cl\n",
        "import pyopencl.reduction\n",
        "import pyopencl.tools"
      ]
    },
    {
      "cell_type": "code",
      "execution_count": 3,
      "metadata": {},
      "outputs": [],
      "source": [
        "ctx = cl.create_some_context(interactive=True)\n",
        "queue = cl.CommandQueue(ctx)"
      ]
    },
    {
      "cell_type": "code",
      "execution_count": 13,
      "metadata": {},
      "outputs": [],
      "source": [
        "code = cl.reduction._get_reduction_source(\n",
        "    ctx,\n",
        "    out_type=\"float\", out_type_size=4,\n",
        "    neutral=\"0\", reduce_expr=\"a+b\", map_expr=\"x[i]\",\n",
        "    parsed_args=cl.tools.parse_arg_list(\"float *x\"))\n",
        "src = code.source\n",
        "\n",
        "# {{{ clear double empty lines\n",
        "\n",
        "import re\n",
        "src, _ = re.subn(r\"\\n\\s+\\n\", \"\\n\\n\", src)\n",
        "\n",
        "while True:\n",
        "    oldsrc = src\n",
        "    src = src.replace(\"\\n\\n\\n\", \"\\n\\n\")\n",
        "    if oldsrc == src:\n",
        "        break\n",
        "        \n",
        "# }}}\n",
        "        \n",
        "print(src)"
      ]
    },
    {
      "cell_type": "code",
      "execution_count": 14,
      "metadata": {},
      "outputs": [],
      "source": [
        "prg = cl.Program(ctx, src).build()"
      ]
    },
    {
      "cell_type": "code",
      "execution_count": null,
      "metadata": {},
      "outputs": [],
      "source": []
    }
  ],
  "metadata": {
    "kernelspec": {
      "display_name": "Python 3",
      "language": "python",
      "name": "python3"
    },
    "language_info": {
      "codemirror_mode": {
        "name": "ipython",
        "version": 3
      },
      "file_extension": ".py",
      "mimetype": "text/x-python",
      "name": "python",
      "nbconvert_exporter": "python",
      "pygments_lexer": "ipython3",
      "version": "3.7.5"
    }
  },
  "nbformat": 4,
  "nbformat_minor": 2
}