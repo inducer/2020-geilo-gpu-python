{
  "cells": [
    {
      "cell_type": "markdown",
      "metadata": {},
      "source": [
        "# PTX and SASS (Nvidia)"
      ]
    },
    {
      "cell_type": "markdown",
      "metadata": {},
      "source": [
        "## C Kernel to Source Code"
      ]
    },
    {
      "cell_type": "code",
      "execution_count": 1,
      "metadata": {},
      "outputs": [],
      "source": [
        "import numpy as np\n",
        "import pyopencl as cl\n",
        "import pyopencl.array as cla\n",
        "\n",
        "ctx = cl.create_some_context(answers=[\"nvi\", 1])\n",
        "queue = cl.CommandQueue(ctx)"
      ]
    },
    {
      "cell_type": "code",
      "execution_count": 2,
      "metadata": {},
      "outputs": [],
      "source": [
        "prg = cl.Program(ctx, \"\"\"\n",
        "__kernel void sum(\n",
        "    __global const float *a_g, __global const float *b_g, __global float *res_g)\n",
        "{\n",
        "  int gid = get_global_id(0);\n",
        "  res_g[gid] = a_g[gid] + b_g[gid];\n",
        "}\n",
        "\"\"\").build()\n",
        "\n",
        "print(prg.binaries[0].decode())"
      ]
    },
    {
      "cell_type": "markdown",
      "metadata": {},
      "source": [
        "Comments:\n",
        "\n",
        "* Intel or AT&T style?\n",
        "* Note: address spaces always explicit\n",
        "* What is `ctaid.x`? `%ntid.x`?\n",
        "* How does parameter passing work?\n",
        "* Is this the lowest-level abstraction?"
      ]
    },
    {
      "cell_type": "code",
      "execution_count": 3,
      "metadata": {},
      "outputs": [],
      "source": [
        "!mkdir -p tmp\n",
        "\n",
        "hacked_binary = prg.binaries[0].replace(b\".version 6.1\", b\".version 6.0\")\n",
        "\n",
        "with open(\"tmp/binary.ptx\", \"wb\") as outf:\n",
        "    outf.write(hacked_binary)\n",
        "    \n",
        "!(cd tmp; ptxas --gpu-name sm_61 --verbose binary.ptx -o binary.o)"
      ]
    },
    {
      "cell_type": "code",
      "execution_count": 4,
      "metadata": {},
      "outputs": [],
      "source": [
        "!/usr/local/cuda/bin/cuobjdump --dump-sass tmp/binary.o"
      ]
    },
    {
      "cell_type": "markdown",
      "metadata": {},
      "source": [
        "## Is Division Expensive?"
      ]
    },
    {
      "cell_type": "code",
      "execution_count": 13,
      "metadata": {},
      "outputs": [],
      "source": [
        "prg = cl.Program(ctx, \"\"\"\n",
        "__kernel void sum(\n",
        "    __global float *a_g, int n)\n",
        "{\n",
        "    int gid = get_global_id(0);\n",
        "    \n",
        "    // try dividing by n\n",
        "    \n",
        "    int row = gid / 117;\n",
        "    int col = gid % 117;\n",
        "    \n",
        "    a_g[row * 128 + col] *= 2;\n",
        "    // a_g[gid] *= 2;\n",
        "    \n",
        "}\n",
        "\"\"\").build()\n",
        "\n",
        "hacked_binary = prg.binaries[0].replace(b\".version 6.1\", b\".version 6.0\")\n",
        "\n",
        "with open(\"tmp/binary.ptx\", \"wb\") as outf:\n",
        "    outf.write(hacked_binary)\n",
        "    \n",
        "!(cd tmp; ptxas --gpu-name sm_60 --verbose binary.ptx -o binary.o)\n",
        "!/usr/local/cuda/bin/cuobjdump --dump-sass tmp/binary.o | cut -c -80"
      ]
    },
    {
      "cell_type": "markdown",
      "metadata": {},
      "source": [
        "## An Example with Control Flow"
      ]
    },
    {
      "cell_type": "code",
      "execution_count": 68,
      "metadata": {},
      "outputs": [],
      "source": [
        "prg = cl.Program(ctx, \"\"\"\n",
        "__kernel void sum(\n",
        "    __global const float *a_g, __global const float *b_g, __global float *res_g, int n)\n",
        "{\n",
        "    int gsize = get_global_size(0);\n",
        "    \n",
        "    for (int i = get_global_id(0); i < n; i += gsize)\n",
        "      res_g[i] = a_g[i] + b_g[i];\n",
        "      \n",
        "    res_g[get_global_id(0)] = 15;\n",
        "}\n",
        "\"\"\").build()\n",
        "\n",
        "hacked_binary = prg.binaries[0].replace(b\".version 6.1\", b\".version 6.0\")\n",
        "\n",
        "with open(\"tmp/binary.ptx\", \"wb\") as outf:\n",
        "    outf.write(hacked_binary)\n",
        "    \n",
        "!(cd tmp; ptxas --gpu-name sm_60 --verbose binary.ptx -o binary.o)\n",
        "!/usr/local/cuda/bin/cuobjdump --dump-sass tmp/binary.o | cut -c -80"
      ]
    },
    {
      "cell_type": "markdown",
      "metadata": {},
      "source": [
        "* Spot something that doesn't quite seem to belong?"
      ]
    },
    {
      "cell_type": "markdown",
      "metadata": {},
      "source": [
        "## From CUDA"
      ]
    },
    {
      "cell_type": "markdown",
      "metadata": {},
      "source": [
        "Vector add stolen from [ORNL](https://www.olcf.ornl.gov/tutorials/cuda-vector-addition/)."
      ]
    },
    {
      "cell_type": "code",
      "execution_count": 34,
      "metadata": {},
      "outputs": [],
      "source": [
        "%%writefile tmp/vector-add.cu\n",
        "\n",
        "#include <stdio.h>\n",
        "#include <stdlib.h>\n",
        "#include <math.h>\n",
        " \n",
        "__global__ void vecAdd(double *a, double *b, double *c, int n)\n",
        "{\n",
        "    // Get our global thread ID\n",
        "    int id = blockIdx.x*blockDim.x+threadIdx.x;\n",
        " \n",
        "    // Make sure we do not go out of bounds\n",
        "    if (id < n)\n",
        "        c[id] = a[id] + b[id];\n",
        "}\n",
        " \n",
        "int main( int argc, char* argv[] )\n",
        "{\n",
        "    // Size of vectors\n",
        "    int n = 100000;\n",
        " \n",
        "    double *h_a;\n",
        "    double *h_b;\n",
        "    double *h_c;\n",
        " \n",
        "    double *d_a;\n",
        "    double *d_b;\n",
        "    double *d_c;\n",
        " \n",
        "    size_t bytes = n*sizeof(double);\n",
        " \n",
        "    h_a = (double*)malloc(bytes);\n",
        "    h_b = (double*)malloc(bytes);\n",
        "    h_c = (double*)malloc(bytes);\n",
        " \n",
        "    cudaMalloc(&d_a, bytes);\n",
        "    cudaMalloc(&d_b, bytes);\n",
        "    cudaMalloc(&d_c, bytes);\n",
        " \n",
        "    int i;\n",
        "    for( i = 0; i < n; i++ ) {\n",
        "        h_a[i] = sin(i)*sin(i);\n",
        "        h_b[i] = cos(i)*cos(i);\n",
        "    }\n",
        " \n",
        "    // Copy host vectors to device\n",
        "    cudaMemcpy( d_a, h_a, bytes, cudaMemcpyHostToDevice);\n",
        "    cudaMemcpy( d_b, h_b, bytes, cudaMemcpyHostToDevice);\n",
        " \n",
        "    int blockSize, gridSize;\n",
        " \n",
        "    blockSize = 1024;\n",
        " \n",
        "    gridSize = (int)ceil((float)n/blockSize);\n",
        " \n",
        "    vecAdd<<<gridSize, blockSize>>>(d_a, d_b, d_c, n);\n",
        " \n",
        "    cudaMemcpy( h_c, d_c, bytes, cudaMemcpyDeviceToHost );\n",
        " \n",
        "    double sum = 0;\n",
        "    for(i=0; i<n; i++)\n",
        "        sum += h_c[i];\n",
        "    printf(\"final result: %f\\n\", sum/n);\n",
        " \n",
        "    cudaFree(d_a);\n",
        "    cudaFree(d_b);\n",
        "    cudaFree(d_c);\n",
        " \n",
        "    free(h_a);\n",
        "    free(h_b);\n",
        "    free(h_c);\n",
        " \n",
        "    return 0;\n",
        "}"
      ]
    },
    {
      "cell_type": "code",
      "execution_count": 35,
      "metadata": {},
      "outputs": [],
      "source": [
        "!(cd tmp; nvcc -c -ccbin g++-7 vector-add.cu)\n",
        "!/usr/local/cuda/bin/cuobjdump --dump-sass tmp/vector-add.o"
      ]
    },
    {
      "cell_type": "markdown",
      "metadata": {},
      "source": [
        "* What is `_Z6vecAddPdS_S_i`?"
      ]
    },
    {
      "cell_type": "code",
      "execution_count": 36,
      "metadata": {},
      "outputs": [],
      "source": [
        "!echo _Z6vecAddPdS_S_i | c++filt"
      ]
    },
    {
      "cell_type": "markdown",
      "metadata": {},
      "source": [
        "## Inline PTX"
      ]
    },
    {
      "cell_type": "code",
      "execution_count": 47,
      "metadata": {},
      "outputs": [],
      "source": [
        "prg = cl.Program(ctx, \"\"\"\n",
        "__kernel void getlaneid(__global int *d_ptr, int length)\n",
        "{\n",
        "    int elemID = get_global_id(0);\n",
        "    if (elemID < length)\n",
        "    {\n",
        "        unsigned int laneid;\n",
        "        asm(\"mov.u32 %0, %%laneid;\" : \"=r\"(laneid));\n",
        "        d_ptr[elemID] = laneid;\n",
        "    }\n",
        "}\n",
        "\"\"\").build()\n",
        "\n",
        "print(prg.binaries[0].decode())"
      ]
    },
    {
      "cell_type": "markdown",
      "metadata": {},
      "source": [
        "* What do the constraints mean again?\n",
        "* Spot the inline assembly\n",
        "* Observe how the `if` is realized\n",
        "* Observe the realization of `get_global_id()`"
      ]
    },
    {
      "cell_type": "code",
      "execution_count": 48,
      "metadata": {},
      "outputs": [],
      "source": [
        "a = cla.empty(queue, 5000, np.uint32)\n",
        "prg.getlaneid(queue, lanes.shape, None, a.data, np.uint32(a.size))"
      ]
    },
    {
      "cell_type": "code",
      "execution_count": 50,
      "metadata": {},
      "outputs": [],
      "source": [
        "a[:500]"
      ]
    },
    {
      "cell_type": "code",
      "execution_count": null,
      "metadata": {},
      "outputs": [],
      "source": []
    }
  ],
  "metadata": {
    "kernelspec": {
      "display_name": "Python 3",
      "language": "python",
      "name": "python3"
    },
    "language_info": {
      "codemirror_mode": {
        "name": "ipython",
        "version": 3
      },
      "file_extension": ".py",
      "mimetype": "text/x-python",
      "name": "python",
      "nbconvert_exporter": "python",
      "pygments_lexer": "ipython3",
      "version": "3.6.6"
    }
  },
  "nbformat": 4,
  "nbformat_minor": 2
}