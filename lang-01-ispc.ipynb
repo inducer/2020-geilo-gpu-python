{
  "cells": [
    {
      "cell_type": "markdown",
      "metadata": {},
      "source": [
        "# Intel SPMD Program Compiler (ISPC)"
      ]
    },
    {
      "cell_type": "code",
      "execution_count": 4,
      "metadata": {},
      "outputs": [],
      "source": [
        "!rm -Rf tmp\n",
        "!mkdir -p tmp"
      ]
    },
    {
      "cell_type": "code",
      "execution_count": 13,
      "metadata": {},
      "outputs": [],
      "source": [
        "%%writefile tmp/scalar-program-instances.ispc\n",
        "\n",
        "varying float add_them(varying float a, varying float b)\n",
        "{\n",
        "    return a + b;\n",
        "}"
      ]
    },
    {
      "cell_type": "code",
      "execution_count": 14,
      "metadata": {},
      "outputs": [],
      "source": [
        "!cd tmp; ~/pack/ispc-v1.9.0-linux/ispc  \\\n",
        "    --target=avx2-i32x8 \\\n",
        "    --opt=force-aligned-memory \\\n",
        "    scalar-program-instances.ispc \\\n",
        "    -o scalar-program-instances.o\n",
        "! objdump --disassemble tmp/scalar-program-instances.o"
      ]
    },
    {
      "cell_type": "markdown",
      "metadata": {},
      "source": [
        "- `uniform` and `varying`\n",
        "- `programCount` and `programIndex`\n",
        "- `x16` targets... why?\n",
        "- How do you think shuffles are done?\n"
      ]
    }
  ],
  "metadata": {
    "kernelspec": {
      "display_name": "Python 3",
      "language": "python",
      "name": "python3"
    },
    "language_info": {
      "codemirror_mode": {
        "name": "ipython",
        "version": 3
      },
      "file_extension": ".py",
      "mimetype": "text/x-python",
      "name": "python",
      "nbconvert_exporter": "python",
      "pygments_lexer": "ipython3",
      "version": "3.7.6"
    }
  },
  "nbformat": 4,
  "nbformat_minor": 4
}