{
  "cells": [
    {
      "cell_type": "markdown",
      "metadata": {},
      "source": [
        "# Hello Loopy: Computing a Rank-One Matrix\n",
        "\n",
        "## Setup Code"
      ]
    },
    {
      "cell_type": "code",
      "execution_count": 16,
      "metadata": {
        "collapsed": true
      },
      "outputs": [],
      "source": [
        "import numpy as np\n",
        "import pyopencl as cl\n",
        "import pyopencl.array\n",
        "import pyopencl.clrandom\n",
        "import loopy as lp"
      ]
    },
    {
      "cell_type": "code",
      "execution_count": 21,
      "metadata": {
        "collapsed": true
      },
      "outputs": [],
      "source": [
        "ctx = cl.create_some_context()\n",
        "queue = cl.CommandQueue(ctx)"
      ]
    },
    {
      "cell_type": "code",
      "execution_count": 22,
      "metadata": {
        "collapsed": true
      },
      "outputs": [],
      "source": [
        "n = 1024\n",
        "a = cl.clrandom.rand(queue, n, dtype=np.float32)\n",
        "b = cl.clrandom.rand(queue, n, dtype=np.float32)"
      ]
    },
    {
      "cell_type": "markdown",
      "metadata": {},
      "source": [
        "## The Initial Kernel"
      ]
    },
    {
      "cell_type": "code",
      "execution_count": 23,
      "metadata": {
        "collapsed": true
      },
      "outputs": [],
      "source": [
        "knl = lp.make_kernel(\n",
        "    \"{[i,j]: 0<=i,j<n}\",\n",
        "    \"c[i, j] = a[i]*b[j]\")"
      ]
    },
    {
      "cell_type": "code",
      "execution_count": 24,
      "metadata": {},
      "outputs": [],
      "source": [
        "knl = lp.set_options(knl, write_cl=True)\n",
        "evt, (mat,) = knl(queue, a=a, b=b)"
      ]
    },
    {
      "cell_type": "markdown",
      "metadata": {},
      "source": [
        "## Transforming kernels: Implementation Tags\n",
        "\n",
        "Every loop axis (\"iname\") comes with an *implementation tag*."
      ]
    },
    {
      "cell_type": "code",
      "execution_count": 29,
      "metadata": {},
      "outputs": [],
      "source": [
        "isplit_knl = knl\n",
        "#isplit_knl = lp.assume(isplit_knl, \"n mod 4 = 0\")\n",
        "isplit_knl = lp.split_iname(isplit_knl, \"i\", 4)\n",
        "#isplit_knl = lp.tag_inames(isplit_knl, {\"i_inner\": \"unr\"})\n",
        "\n",
        "evt, (mat,) = isplit_knl(queue, a=a, b=b)"
      ]
    },
    {
      "cell_type": "markdown",
      "metadata": {},
      "source": [
        "----\n",
        "\"Map to GPU hw axis\" is an iname tag as well.\n",
        "\n",
        "Use shortcuts for less typing:"
      ]
    },
    {
      "cell_type": "code",
      "execution_count": 8,
      "metadata": {},
      "outputs": [],
      "source": [
        "split_knl = knl\n",
        "split_knl = lp.split_iname(split_knl, \"i\", 16,\n",
        "        outer_tag=\"g.0\", inner_tag=\"l.0\")\n",
        "split_knl = lp.split_iname(split_knl, \"j\", 16,\n",
        "        outer_tag=\"g.1\", inner_tag=\"l.1\")\n",
        "\n",
        "evt, (mat,) = split_knl(queue, a=a, b=b)"
      ]
    },
    {
      "cell_type": "markdown",
      "metadata": {},
      "source": [
        "## Targeting CPUs/KNL\n",
        "\n",
        "[ISPC](https://ispc.github.io/)'s \"low-level\" interface provides access to SSE, AVX2, AVX512 (including Knight's hardware) from a scalar CUDA program model:"
      ]
    },
    {
      "cell_type": "code",
      "execution_count": 19,
      "metadata": {},
      "outputs": [],
      "source": [
        "ispc_knl = knl\n",
        "\n",
        "ispc_knl = ispc_knl.copy(target=lp.ISPCTarget())\n",
        "\n",
        "ispc_knl = lp.split_iname(ispc_knl, \"j\", 16,\n",
        "        outer_tag=\"g.0\", inner_tag=\"l.0\")\n",
        "ispc_knl = lp.add_and_infer_dtypes(ispc_knl, dict(a=np.float32, b=np.float32))\n",
        "\n",
        "print(lp.generate_code_v2(ispc_knl).all_code())"
      ]
    },
    {
      "cell_type": "markdown",
      "metadata": {},
      "source": [
        "## Transforming kernels: Leveraging data reuse\n",
        "\n",
        "Would like to fetch entire \"access footprint\" of a loop."
      ]
    },
    {
      "cell_type": "code",
      "execution_count": 22,
      "metadata": {},
      "outputs": [],
      "source": [
        "fetch_knl = split_knl\n",
        "\n",
        "fetch_knl = lp.add_prefetch(fetch_knl, \"a\", [\"i_inner\"])\n",
        "fetch_knl = lp.add_prefetch(fetch_knl, \"b\", [\"j_inner\"])\n",
        "\n",
        "evt, (mat,) = fetch_knl(queue, a=a, b=b)"
      ]
    }
  ],
  "metadata": {
    "kernelspec": {
      "display_name": "Python 3",
      "language": "python",
      "name": "python3"
    },
    "language_info": {
      "codemirror_mode": {
        "name": "ipython",
        "version": 3
      },
      "file_extension": ".py",
      "mimetype": "text/x-python",
      "name": "python",
      "nbconvert_exporter": "python",
      "pygments_lexer": "ipython3",
      "version": "3.6.2"
    },
    "widgets": {
      "state": {},
      "version": "1.1.2"
    }
  },
  "nbformat": 4,
  "nbformat_minor": 1
}